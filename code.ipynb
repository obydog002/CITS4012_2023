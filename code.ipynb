{
 "cells": [
  {
   "cell_type": "markdown",
   "metadata": {
    "id": "32yCsRUo8H33"
   },
   "source": [
    "# 2023 CITS4012 Assignment\n",
    "*Make sure you change the file name with your student id.*"
   ]
  },
  {
   "cell_type": "markdown",
   "metadata": {
    "id": "XCybYoGz8YWQ"
   },
   "source": [
    "# Readme\n",
    "*If there is something to be noted for the marker, please mention here.* \n",
    "\n",
    "*If you are planning to implement a program with Object Oriented Programming style, please check the bottom of the this ipynb file*"
   ]
  },
  {
   "cell_type": "code",
   "execution_count": 2,
   "metadata": {
    "id": "qvff21Hv8zjk"
   },
   "outputs": [
    {
     "ename": "NameError",
     "evalue": "name 'data_prep' is not defined",
     "output_type": "error",
     "traceback": [
      "\u001b[0;31m---------------------------------------------------------------------------\u001b[0m",
      "\u001b[0;31mNameError\u001b[0m                                 Traceback (most recent call last)",
      "Cell \u001b[0;32mIn[2], line 5\u001b[0m\n\u001b[1;32m      3\u001b[0m \u001b[38;5;28;01mfrom\u001b[39;00m \u001b[38;5;21;01mimportlib\u001b[39;00m \u001b[38;5;28;01mimport\u001b[39;00m reload\n\u001b[1;32m      4\u001b[0m \u001b[38;5;28;01mfrom\u001b[39;00m \u001b[38;5;21;01mdata_prep\u001b[39;00m \u001b[38;5;28;01mimport\u001b[39;00m DataPrep\n\u001b[0;32m----> 5\u001b[0m reload(data_prep)\n\u001b[1;32m      6\u001b[0m \u001b[38;5;28;01mfrom\u001b[39;00m \u001b[38;5;21;01mdata_prep\u001b[39;00m \u001b[38;5;28;01mimport\u001b[39;00m DataPrep\n",
      "\u001b[0;31mNameError\u001b[0m: name 'data_prep' is not defined"
     ]
    }
   ],
   "source": [
    "import sys\n",
    "sys.path.append('./src/QA')\n",
    "from importlib import reload\n",
    "from data_prep import DataPrep\n",
    "reload(data_prep)\n",
    "from data_prep import DataPrep"
   ]
  },
  {
   "cell_type": "markdown",
   "metadata": {
    "id": "6po98qVA8bJD"
   },
   "source": [
    "# 1.DataSet Processing\n",
    "(You can add as many code blocks and text blocks as you need. However, YOU SHOULD NOT MODIFY the section title) "
   ]
  },
  {
   "cell_type": "code",
   "execution_count": null,
   "metadata": {
    "colab": {
     "base_uri": "https://localhost:8080/"
    },
    "executionInfo": {
     "elapsed": 19316,
     "status": "ok",
     "timestamp": 1682740023507,
     "user": {
      "displayName": "Nicholas Clarke",
      "userId": "09419617232484039091"
     },
     "user_tz": -480
    },
    "id": "X_udwNvRF6YV",
    "outputId": "75fd7433-b779-4551-aec6-18630a01f70e"
   },
   "outputs": [],
   "source": [
    "# only need to run these commands if using Colab\n",
    "# Mount google drive and change directory to the git repo folder\n",
    "from google.colab import drive\n",
    "drive.mount('/content/gdrive')\n",
    "%cd gdrive/MyDrive/CITS4012_2023"
   ]
  },
  {
   "cell_type": "code",
   "execution_count": null,
   "metadata": {
    "executionInfo": {
     "elapsed": 1771,
     "status": "ok",
     "timestamp": 1682740033517,
     "user": {
      "displayName": "Nicholas Clarke",
      "userId": "09419617232484039091"
     },
     "user_tz": -480
    },
    "id": "3Ifc-wwoF7lu"
   },
   "outputs": [],
   "source": [
    "# colab seems to require an explicit path for this to work from mounted drive\n",
    "import sys\n",
    "sys.path.append('/content/gdrive/MyDrive/CITS4012_2023/src/QA')\n",
    "from data_prep import DataPrep"
   ]
  },
  {
   "cell_type": "code",
   "execution_count": 6,
   "metadata": {
    "id": "qvff21Hv8zjk"
   },
   "outputs": [],
   "source": [
    "# when not using colab\n",
    "import sys\n",
    "sys.path.append('./src/QA')\n",
    "from data_prep import DataPrep"
   ]
  },
  {
   "cell_type": "code",
   "execution_count": 7,
   "metadata": {
    "id": "QIEqDDT78q39"
   },
   "outputs": [],
   "source": [
    "df = DataPrep.parse_tsv('WikiQA-train.tsv')\n",
    "question_id_list = df.loc[:, \"QuestionID\"]\n",
    "question_id_list = list(set(question_id_list))\n",
    "question_id_list.sort() # fix sorting or dont sort\n",
    "\n",
    "question_id = {}\n",
    "for i in df.index:\n",
    "    row = df.loc[i]\n",
    "    id = row[\"QuestionID\"]\n",
    "    if id not in question_id:\n",
    "        question_id[id] = {\"document\": []}\n",
    "        question_id[id][\"question\"] = row[\"Question\"]\n",
    "    \n",
    "    question_id[id][\"document\"].append((row[\"Sentence\"], row[\"Label\"]))"
   ]
  },
  {
   "cell_type": "code",
   "execution_count": 8,
   "metadata": {
    "id": "6ZVeNYIH9IaL"
   },
   "outputs": [
    {
     "data": {
      "text/plain": [
       "(['how', 'are', 'glacier', 'caves', 'formed?'],\n",
       " [[['A', 'OOA'],\n",
       "   ['partly', 'OOA'],\n",
       "   ['submerged', 'OOA'],\n",
       "   ['glacier', 'OOA'],\n",
       "   ['cave', 'OOA'],\n",
       "   ['on', 'OOA'],\n",
       "   ['Perito', 'OOA'],\n",
       "   ['Moreno', 'OOA'],\n",
       "   ['Glacier', 'OOA'],\n",
       "   ['.', 'OOA']],\n",
       "  [['The', 'OOA'],\n",
       "   ['ice', 'OOA'],\n",
       "   ['facade', 'OOA'],\n",
       "   ['is', 'OOA'],\n",
       "   ['approximately', 'OOA'],\n",
       "   ['60', 'OOA'],\n",
       "   ['m', 'OOA'],\n",
       "   ['high', 'OOA']],\n",
       "  [['Ice', 'OOA'],\n",
       "   ['formations', 'OOA'],\n",
       "   ['in', 'OOA'],\n",
       "   ['the', 'OOA'],\n",
       "   ['Titlis', 'OOA'],\n",
       "   ['glacier', 'OOA'],\n",
       "   ['cave', 'OOA']],\n",
       "  [['A', 'BOA'],\n",
       "   ['glacier', 'IOA'],\n",
       "   ['cave', 'IOA'],\n",
       "   ['is', 'IOA'],\n",
       "   ['a', 'IOA'],\n",
       "   ['cave', 'IOA'],\n",
       "   ['formed', 'IOA'],\n",
       "   ['within', 'IOA'],\n",
       "   ['the', 'IOA'],\n",
       "   ['ice', 'IOA'],\n",
       "   ['of', 'IOA'],\n",
       "   ['a', 'IOA'],\n",
       "   ['glacier', 'IOA'],\n",
       "   ['.', 'EOA']],\n",
       "  [['Glacier', 'OOA'],\n",
       "   ['caves', 'OOA'],\n",
       "   ['are', 'OOA'],\n",
       "   ['often', 'OOA'],\n",
       "   ['called', 'OOA'],\n",
       "   ['ice', 'OOA'],\n",
       "   ['caves', 'OOA'],\n",
       "   [',', 'OOA'],\n",
       "   ['but', 'OOA'],\n",
       "   ['this', 'OOA'],\n",
       "   ['term', 'OOA'],\n",
       "   ['is', 'OOA'],\n",
       "   ['properly', 'OOA'],\n",
       "   ['used', 'OOA'],\n",
       "   ['to', 'OOA'],\n",
       "   ['describe', 'OOA'],\n",
       "   ['bedrock', 'OOA'],\n",
       "   ['caves', 'OOA'],\n",
       "   ['that', 'OOA'],\n",
       "   ['contain', 'OOA'],\n",
       "   ['year-round', 'OOA'],\n",
       "   ['ice.', 'OOA']]])"
      ]
     },
     "execution_count": 8,
     "metadata": {},
     "output_type": "execute_result"
    }
   ],
   "source": [
    "toks = DataPrep.tokenize_question_and_doc(question_id[\"Q1\"])\n",
    "toks"
   ]
  },
  {
   "cell_type": "markdown",
   "metadata": {
    "id": "1FA2ao2l8hOg"
   },
   "source": [
    "# 2.QA Model Implementation\n",
    "(You can add as many code blocks and text blocks as you need. However, YOU SHOULD NOT MODIFY the section title) "
   ]
  },
  {
   "cell_type": "markdown",
   "metadata": {
    "id": "EzGuzHPE87Ya"
   },
   "source": [
    "# 3.Model Testing\n",
    "(You can add as many code blocks and text blocks as you need. However, YOU SHOULD NOT MODIFY the section title) "
   ]
  },
  {
   "cell_type": "markdown",
   "metadata": {
    "id": "cTNGfO0h9I3W"
   },
   "source": [
    "###3.1. Input Embedding Ablation Study\n",
    "\n",
    "(You can add as many code blocks and text blocks as you need. However, YOU SHOULD NOT MODIFY the section title) \n",
    "\n"
   ]
  },
  {
   "cell_type": "code",
   "execution_count": null,
   "metadata": {
    "id": "XEVsyvrc9VHL"
   },
   "outputs": [],
   "source": []
  },
  {
   "cell_type": "markdown",
   "metadata": {
    "id": "uX7nFwMo9WBE"
   },
   "source": [
    "###3.2. Attention Ablation Study\n",
    "(You can add as many code blocks and text blocks as you need. However, YOU SHOULD NOT MODIFY the section title) "
   ]
  },
  {
   "cell_type": "code",
   "execution_count": null,
   "metadata": {
    "id": "CfRK-BeiNSVi"
   },
   "outputs": [],
   "source": []
  },
  {
   "cell_type": "code",
   "execution_count": null,
   "metadata": {
    "id": "E0VAR8GF9hSD"
   },
   "outputs": [],
   "source": []
  },
  {
   "cell_type": "markdown",
   "metadata": {
    "id": "llzGjUe6NDnB"
   },
   "source": [
    "###3.3. Hyper Parameter Testing\n",
    "(You can add as many code blocks and text blocks as you need. However, YOU SHOULD NOT MODIFY the section title) "
   ]
  },
  {
   "cell_type": "code",
   "execution_count": null,
   "metadata": {
    "id": "2Xj4PNyrNDBH"
   },
   "outputs": [],
   "source": []
  }
 ],
 "metadata": {
  "colab": {
   "provenance": []
  },
  "kernelspec": {
   "display_name": "Python 3 (ipykernel)",
   "language": "python",
   "name": "python3"
  },
  "language_info": {
   "codemirror_mode": {
    "name": "ipython",
    "version": 3
   },
   "file_extension": ".py",
   "mimetype": "text/x-python",
   "name": "python",
   "nbconvert_exporter": "python",
   "pygments_lexer": "ipython3",
   "version": "3.11.3"
  }
 },
 "nbformat": 4,
 "nbformat_minor": 4
}
