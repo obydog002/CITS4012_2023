{
 "cells": [
  {
   "cell_type": "markdown",
   "metadata": {
    "id": "32yCsRUo8H33"
   },
   "source": [
    "# 2023 CITS4012 Assignment\n",
    "*Make sure you change the file name with your student id.*"
   ]
  },
  {
   "cell_type": "markdown",
   "metadata": {
    "id": "XCybYoGz8YWQ"
   },
   "source": [
    "# Readme\n",
    "*If there is something to be noted for the marker, please mention here.* \n",
    "\n",
    "*If you are planning to implement a program with Object Oriented Programming style, please check the bottom of the this ipynb file*"
   ]
  },
  {
   "cell_type": "markdown",
   "metadata": {
    "id": "6po98qVA8bJD"
   },
   "source": [
    "# 1.DataSet Processing\n",
    "(You can add as many code blocks and text blocks as you need. However, YOU SHOULD NOT MODIFY the section title) "
   ]
  },
  {
   "cell_type": "code",
   "execution_count": null,
   "metadata": {
    "colab": {
     "base_uri": "https://localhost:8080/"
    },
    "executionInfo": {
     "elapsed": 20176,
     "status": "ok",
     "timestamp": 1683603465630,
     "user": {
      "displayName": "Nicholas Clarke",
      "userId": "09419617232484039091"
     },
     "user_tz": -480
    },
    "id": "X_udwNvRF6YV",
    "outputId": "c03961a5-9954-4ead-bf00-69b8e9a7c565"
   },
   "outputs": [
    {
     "name": "stdout",
     "output_type": "stream",
     "text": [
      "Mounted at /content/gdrive\n",
      "/content/gdrive/MyDrive/CITS4012_2023\n"
     ]
    }
   ],
   "source": [
    "# only need to run these commands if using Colab\n",
    "# Mount google drive and change directory to the git repo folder\n",
    "from google.colab import drive\n",
    "drive.mount('/content/gdrive')\n",
    "%cd gdrive/MyDrive/CITS4012_2023\n",
    "import sys\n",
    "# colab seems to require an explicit path for this to work from mounted drive\n",
    "sys.path.append('/content/gdrive/MyDrive/CITS4012_2023/src/QA')"
   ]
  },
  {
   "cell_type": "code",
   "execution_count": 1,
   "metadata": {
    "id": "CC8Hsr5p5l63"
   },
   "outputs": [],
   "source": [
    "# when not using colab\n",
    "import sys\n",
    "sys.path.append('./src/QA')\n",
    "import reload_recursive\n",
    "%reload data_prep"
   ]
  },
  {
   "cell_type": "code",
   "execution_count": 2,
   "metadata": {
    "id": "3Ifc-wwoF7lu"
   },
   "outputs": [],
   "source": [
    "from data_prep import DataPrep"
   ]
  },
  {
   "cell_type": "code",
   "execution_count": 3,
   "metadata": {
    "id": "QIEqDDT78q39"
   },
   "outputs": [],
   "source": [
    "df = DataPrep.parse_tsv('WikiQA-train.tsv')\n",
    "question_doc_raw_train = DataPrep.convert_pd_to_json(df)"
   ]
  },
  {
   "cell_type": "code",
   "execution_count": 5,
   "metadata": {
    "colab": {
     "base_uri": "https://localhost:8080/"
    },
    "executionInfo": {
     "elapsed": 2,
     "status": "ok",
     "timestamp": 1683443240995,
     "user": {
      "displayName": "Nicholas Clarke",
      "userId": "09419617232484039091"
     },
     "user_tz": -480
    },
    "id": "D6uKdLZbkUKj",
    "outputId": "8aa96bc3-c832-448b-b7a3-52aba6787542"
   },
   "outputs": [
    {
     "data": {
      "text/plain": [
       "{'document': [('A partly submerged glacier cave on Perito Moreno Glacier .',\n",
       "   0),\n",
       "  ('The ice facade is approximately 60 m high', 0),\n",
       "  ('Ice formations in the Titlis glacier cave', 0),\n",
       "  ('A glacier cave is a cave formed within the ice of a glacier .', 1),\n",
       "  ('Glacier caves are often called ice caves , but this term is properly used to describe bedrock caves that contain year-round ice.',\n",
       "   0)],\n",
       " 'question': 'how are glacier caves formed?'}"
      ]
     },
     "execution_count": 5,
     "metadata": {},
     "output_type": "execute_result"
    }
   ],
   "source": [
    "question_doc_raw_train[\"Q1\"]"
   ]
  },
  {
   "cell_type": "markdown",
   "metadata": {
    "id": "aRXp_aqnciDF"
   },
   "source": [
    "questions that NER tagging works in:\n",
    "- how many series in hockey before the stanley cup\n",
    "- how much are the harry potter movies worth\n",
    "\n",
    "questions it doesn't work in:\n",
    "- how did anne frank die\n",
    "- what did benedict arnold die\n",
    "- how old is kurt cobain's daughter\n"
   ]
  },
  {
   "cell_type": "code",
   "execution_count": 13,
   "metadata": {
    "colab": {
     "base_uri": "https://localhost:8080/"
    },
    "executionInfo": {
     "elapsed": 78133,
     "status": "ok",
     "timestamp": 1683443323463,
     "user": {
      "displayName": "Nicholas Clarke",
      "userId": "09419617232484039091"
     },
     "user_tz": -480
    },
    "id": "VTh6y8i2DWtj",
    "outputId": "8d8c6233-24c2-4e28-e615-182a978637f9"
   },
   "outputs": [],
   "source": [
    "%reload word_embed\n",
    "from word_embed import WordEmbed"
   ]
  },
  {
   "cell_type": "code",
   "execution_count": 10,
   "metadata": {
    "colab": {
     "base_uri": "https://localhost:8080/"
    },
    "executionInfo": {
     "elapsed": 14736,
     "status": "ok",
     "timestamp": 1683443424804,
     "user": {
      "displayName": "Nicholas Clarke",
      "userId": "09419617232484039091"
     },
     "user_tz": -480
    },
    "id": "U9bQkgTlqOQ2",
    "outputId": "bbe5c710-9a43-4c26-acb8-0a76908d7ebc"
   },
   "outputs": [
    {
     "name": "stderr",
     "output_type": "stream",
     "text": [
      "[nltk_data] Downloading package averaged_perceptron_tagger to\n",
      "[nltk_data]     /home/max/nltk_data...\n",
      "[nltk_data]   Package averaged_perceptron_tagger is already up-to-\n",
      "[nltk_data]       date!\n"
     ]
    }
   ],
   "source": [
    "%reload feat_extract\n",
    "from feat_extract import FeatExt"
   ]
  },
  {
   "cell_type": "code",
   "execution_count": 11,
   "metadata": {
    "id": "PeeM1KhMGg2S"
   },
   "outputs": [],
   "source": [
    "%reload embed_doc\n",
    "from embed_doc import EmbedAndConcat"
   ]
  },
  {
   "cell_type": "code",
   "execution_count": 21,
   "metadata": {},
   "outputs": [],
   "source": [
    "# returns a tuple with:\n",
    "# 0 - question tokenized\n",
    "# 1 - list of sentences tokenized\n",
    "# 2 - list of corresponding sentence in-or-out tokens\n",
    "q1_toks = DataPrep.tokenize_question_and_doc(question_doc_raw_train[\"Q1\"])"
   ]
  },
  {
   "cell_type": "code",
   "execution_count": 15,
   "metadata": {
    "id": "xCs1TEXnh8Tv"
   },
   "outputs": [],
   "source": [
    "# returns a list of embedded sentences, with each sentence having one array for each word\n",
    "toks_embedded = EmbedAndConcat.doc_concat(q1_toks[1])"
   ]
  },
  {
   "cell_type": "code",
   "execution_count": 24,
   "metadata": {
    "id": "C5NAHNJr015E"
   },
   "outputs": [],
   "source": [
    "# same as above, but includes named entity recognition tags in the arrays\n",
    "doc_ner_tags = FeatExt.ner_tag_doc(question_doc_raw_train[\"Q1\"][\"document\"])\n",
    "toks_embedded_with_ner = EmbedAndConcat.doc_concat(q1_toks[1], with_ner=True, doc_ner_tags=doc_ner_tags)"
   ]
  },
  {
   "cell_type": "code",
   "execution_count": 26,
   "metadata": {
    "id": "puwWMHv2VJv4"
   },
   "outputs": [],
   "source": [
    "# these functions do the same, but for questions\n",
    "q_embedded = EmbedAndConcat.q_concat(q1_toks[0])"
   ]
  },
  {
   "cell_type": "code",
   "execution_count": 27,
   "metadata": {
    "id": "7zqk8tjy5mad"
   },
   "outputs": [],
   "source": [
    "q_ner_tags = FeatExt.ner_tag(question_doc_raw_train[\"Q1\"][\"question\"])\n",
    "q_embedded_with_ner = EmbedAndConcat.q_concat(q1_toks[0], with_ner=True, question_ner_tags=q_ner_tags)"
   ]
  },
  {
   "cell_type": "markdown",
   "metadata": {
    "id": "1FA2ao2l8hOg"
   },
   "source": [
    "# 2.QA Model Implementation\n",
    "(You can add as many code blocks and text blocks as you need. However, YOU SHOULD NOT MODIFY the section title) "
   ]
  },
  {
   "cell_type": "markdown",
   "metadata": {
    "id": "EzGuzHPE87Ya"
   },
   "source": [
    "# 3.Model Testing\n",
    "(You can add as many code blocks and text blocks as you need. However, YOU SHOULD NOT MODIFY the section title) "
   ]
  },
  {
   "cell_type": "markdown",
   "metadata": {
    "id": "cTNGfO0h9I3W"
   },
   "source": [
    "###3.1. Input Embedding Ablation Study\n",
    "\n",
    "(You can add as many code blocks and text blocks as you need. However, YOU SHOULD NOT MODIFY the section title) \n",
    "\n"
   ]
  },
  {
   "cell_type": "code",
   "execution_count": null,
   "metadata": {
    "colab": {
     "base_uri": "https://localhost:8080/"
    },
    "executionInfo": {
     "elapsed": 93503,
     "status": "ok",
     "timestamp": 1683603579682,
     "user": {
      "displayName": "Nicholas Clarke",
      "userId": "09419617232484039091"
     },
     "user_tz": -480
    },
    "id": "tagMKlNz234m",
    "outputId": "7578a625-4c18-475c-f934-3d9b16b1aca5"
   },
   "outputs": [
    {
     "name": "stdout",
     "output_type": "stream",
     "text": [
      "[=================================================-] 99.4% 127.4/128.1MB downloaded"
     ]
    },
    {
     "name": "stderr",
     "output_type": "stream",
     "text": [
      "[nltk_data] Downloading package averaged_perceptron_tagger to\n",
      "[nltk_data]     /root/nltk_data...\n",
      "[nltk_data]   Unzipping taggers/averaged_perceptron_tagger.zip.\n"
     ]
    }
   ],
   "source": [
    "from word_embed import WordEmbed\n",
    "from feat_extract import FeatExt\n",
    "from embed_doc import EmbedAndConcat"
   ]
  },
  {
   "cell_type": "code",
   "execution_count": null,
   "metadata": {
    "id": "XEVsyvrc9VHL"
   },
   "outputs": [],
   "source": [
    "full_embedded_input = {}\n",
    "# \"question\" = list of np.arrays for each word\n",
    "# \"document\" = a list of embedded sentences, with each sentence having one array for each word\n",
    "# \"answer\" = list of sentences, each sentence a list of answer labels\n",
    "for q_id in question_id:\n",
    "  try:\n",
    "    tokens = DataPrep.tokenize_question_and_doc(question_id[q_id])\n",
    "    answer = tokens[2]\n",
    "    q_ner_tags = FeatExt.ner_tag(question_id[q_id][\"question\"])\n",
    "    q_embedded = EmbedAndConcat.q_concat(tokens[0], with_ner=True, question_ner_tags=q_ner_tags)\n",
    "    doc_ner_tags = FeatExt.ner_tag_doc(question_id[q_id][\"document\"])\n",
    "    doc_embedded = EmbedAndConcat.doc_concat(tokens[1], with_ner=True, doc_ner_tags=doc_ner_tags)\n",
    "    full_embedded_input[q_id] = {\"question\": q_embedded, \"document\": doc_embedded, \"answer\": answer}\n",
    "  except:\n",
    "    print(q_id)\n",
    "    break"
   ]
  },
  {
   "cell_type": "code",
   "execution_count": null,
   "metadata": {
    "id": "PcsuBxbb2HEG"
   },
   "outputs": [],
   "source": [
    "no_ner_embedded_input = {}\n",
    "for q_id in question_id:\n",
    "    tokens = DataPrep.tokenize_question_and_doc(question_id[q_id])\n",
    "    answer = tokens[2]\n",
    "    q_embedded = EmbedAndConcat.q_concat(tokens[0])\n",
    "    doc_embedded = EmbedAndConcat.doc_concat(tokens[1])\n",
    "    full_embedded_input[q_id] = {\"question\": q_embedded, \"document\": doc_embedded, \"answer\": answer}"
   ]
  },
  {
   "cell_type": "markdown",
   "metadata": {
    "id": "uX7nFwMo9WBE"
   },
   "source": [
    "###3.2. Attention Ablation Study\n",
    "(You can add as many code blocks and text blocks as you need. However, YOU SHOULD NOT MODIFY the section title) "
   ]
  },
  {
   "cell_type": "code",
   "execution_count": null,
   "metadata": {
    "id": "CfRK-BeiNSVi"
   },
   "outputs": [],
   "source": []
  },
  {
   "cell_type": "code",
   "execution_count": null,
   "metadata": {
    "id": "E0VAR8GF9hSD"
   },
   "outputs": [],
   "source": []
  },
  {
   "cell_type": "markdown",
   "metadata": {
    "id": "llzGjUe6NDnB"
   },
   "source": [
    "###3.3. Hyper Parameter Testing\n",
    "(You can add as many code blocks and text blocks as you need. However, YOU SHOULD NOT MODIFY the section title) "
   ]
  },
  {
   "cell_type": "code",
   "execution_count": null,
   "metadata": {
    "id": "2Xj4PNyrNDBH"
   },
   "outputs": [],
   "source": []
  }
 ],
 "metadata": {
  "colab": {
   "provenance": []
  },
  "kernelspec": {
   "display_name": "Python 3 (ipykernel)",
   "language": "python",
   "name": "python3"
  },
  "language_info": {
   "codemirror_mode": {
    "name": "ipython",
    "version": 3
   },
   "file_extension": ".py",
   "mimetype": "text/x-python",
   "name": "python",
   "nbconvert_exporter": "python",
   "pygments_lexer": "ipython3",
   "version": "3.10.9"
  }
 },
 "nbformat": 4,
 "nbformat_minor": 0
}
