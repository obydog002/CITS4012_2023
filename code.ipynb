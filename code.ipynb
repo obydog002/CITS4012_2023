{
 "cells": [
  {
   "cell_type": "markdown",
   "metadata": {
    "id": "32yCsRUo8H33"
   },
   "source": [
    "# 2023 CITS4012 Assignment\n",
    "*Make sure you change the file name with your student id.*"
   ]
  },
  {
   "cell_type": "markdown",
   "metadata": {
    "id": "XCybYoGz8YWQ"
   },
   "source": [
    "# Readme\n",
    "*If there is something to be noted for the marker, please mention here.* \n",
    "\n",
    "*If you are planning to implement a program with Object Oriented Programming style, please check the bottom of the this ipynb file*"
   ]
  },
  {
   "cell_type": "markdown",
   "metadata": {
    "id": "6po98qVA8bJD"
   },
   "source": [
    "# 1.DataSet Processing\n",
    "(You can add as many code blocks and text blocks as you need. However, YOU SHOULD NOT MODIFY the section title) "
   ]
  },
  {
   "cell_type": "code",
   "execution_count": 17,
   "metadata": {
    "colab": {
     "base_uri": "https://localhost:8080/"
    },
    "executionInfo": {
     "elapsed": 6573,
     "status": "ok",
     "timestamp": 1683446686682,
     "user": {
      "displayName": "Nicholas Clarke",
      "userId": "09419617232484039091"
     },
     "user_tz": -480
    },
    "id": "X_udwNvRF6YV",
    "outputId": "a6208e1a-7941-4a29-ddf7-67868e232c13"
   },
   "outputs": [
    {
     "name": "stdout",
     "output_type": "stream",
     "text": [
      "Drive already mounted at /content/gdrive; to attempt to forcibly remount, call drive.mount(\"/content/gdrive\", force_remount=True).\n",
      "[Errno 2] No such file or directory: 'gdrive/MyDrive/CITS4012_2023'\n",
      "/content/gdrive/MyDrive/CITS4012_2023\n"
     ]
    }
   ],
   "source": [
    "# only need to run these commands if using Colab\n",
    "# Mount google drive and change directory to the git repo folder\n",
    "from google.colab import drive\n",
    "drive.mount('/content/gdrive')\n",
    "%cd gdrive/MyDrive/CITS4012_2023\n",
    "import sys\n",
    "# colab seems to require an explicit path for this to work from mounted drive\n",
    "sys.path.append('/content/gdrive/MyDrive/CITS4012_2023/src/QA')"
   ]
  },
  {
   "cell_type": "code",
   "execution_count": 1,
   "metadata": {
    "id": "CC8Hsr5p5l63"
   },
   "outputs": [],
   "source": [
    "# when not using colab\n",
    "import sys\n",
    "sys.path.append('./src/QA')\n",
    "import reload_recursive\n",
    "%reload data_prep"
   ]
  },
  {
   "cell_type": "code",
   "execution_count": 2,
   "metadata": {
    "id": "3Ifc-wwoF7lu"
   },
   "outputs": [],
   "source": [
    "from data_prep import DataPrep"
   ]
  },
  {
   "cell_type": "code",
   "execution_count": 3,
   "metadata": {
    "id": "QIEqDDT78q39"
   },
   "outputs": [],
   "source": [
    "df = DataPrep.parse_tsv('WikiQA-train.tsv')\n",
    "question_doc_raw_train = DataPrep.convert_pd_to_json(df)"
   ]
  },
  {
   "cell_type": "code",
   "execution_count": 5,
   "metadata": {
    "colab": {
     "base_uri": "https://localhost:8080/"
    },
    "executionInfo": {
     "elapsed": 2,
     "status": "ok",
     "timestamp": 1683443240995,
     "user": {
      "displayName": "Nicholas Clarke",
      "userId": "09419617232484039091"
     },
     "user_tz": -480
    },
    "id": "D6uKdLZbkUKj",
    "outputId": "8aa96bc3-c832-448b-b7a3-52aba6787542"
   },
   "outputs": [
    {
     "data": {
      "text/plain": [
       "{'document': [('A partly submerged glacier cave on Perito Moreno Glacier .',\n",
       "   0),\n",
       "  ('The ice facade is approximately 60 m high', 0),\n",
       "  ('Ice formations in the Titlis glacier cave', 0),\n",
       "  ('A glacier cave is a cave formed within the ice of a glacier .', 1),\n",
       "  ('Glacier caves are often called ice caves , but this term is properly used to describe bedrock caves that contain year-round ice.',\n",
       "   0)],\n",
       " 'question': 'how are glacier caves formed?'}"
      ]
     },
     "execution_count": 5,
     "metadata": {},
     "output_type": "execute_result"
    }
   ],
   "source": [
    "question_doc_raw_train[\"Q1\"]"
   ]
  },
  {
   "cell_type": "markdown",
   "metadata": {
    "id": "aRXp_aqnciDF"
   },
   "source": [
    "questions that NER tagging works in:\n",
    "- how many series in hockey before the stanley cup\n",
    "- how much are the harry potter movies worth\n",
    "\n",
    "questions it doesn't work in:\n",
    "- how did anne frank die\n",
    "- what did benedict arnold die\n",
    "- how old is kurt cobain's daughter\n"
   ]
  },
  {
   "cell_type": "code",
   "execution_count": 13,
   "metadata": {
    "colab": {
     "base_uri": "https://localhost:8080/"
    },
    "executionInfo": {
     "elapsed": 78133,
     "status": "ok",
     "timestamp": 1683443323463,
     "user": {
      "displayName": "Nicholas Clarke",
      "userId": "09419617232484039091"
     },
     "user_tz": -480
    },
    "id": "VTh6y8i2DWtj",
    "outputId": "8d8c6233-24c2-4e28-e615-182a978637f9"
   },
   "outputs": [],
   "source": [
    "%reload word_embed\n",
    "from word_embed import WordEmbed"
   ]
  },
  {
   "cell_type": "code",
   "execution_count": 10,
   "metadata": {
    "colab": {
     "base_uri": "https://localhost:8080/"
    },
    "executionInfo": {
     "elapsed": 14736,
     "status": "ok",
     "timestamp": 1683443424804,
     "user": {
      "displayName": "Nicholas Clarke",
      "userId": "09419617232484039091"
     },
     "user_tz": -480
    },
    "id": "U9bQkgTlqOQ2",
    "outputId": "bbe5c710-9a43-4c26-acb8-0a76908d7ebc"
   },
   "outputs": [
    {
     "name": "stderr",
     "output_type": "stream",
     "text": [
      "[nltk_data] Downloading package averaged_perceptron_tagger to\n",
      "[nltk_data]     /home/max/nltk_data...\n",
      "[nltk_data]   Package averaged_perceptron_tagger is already up-to-\n",
      "[nltk_data]       date!\n"
     ]
    }
   ],
   "source": [
    "%reload feat_extract\n",
    "from feat_extract import FeatExt"
   ]
  },
  {
   "cell_type": "code",
   "execution_count": 11,
   "metadata": {
    "id": "PeeM1KhMGg2S"
   },
   "outputs": [],
   "source": [
    "%reload embed_doc\n",
    "from embed_doc import EmbedAndConcat"
   ]
  },
  {
   "cell_type": "code",
   "execution_count": 21,
   "metadata": {},
   "outputs": [],
   "source": [
    "# returns a tuple with:\n",
    "# 0 - question tokenized\n",
    "# 1 - list of sentences tokenized\n",
    "# 2 - list of corresponding sentence in-or-out tokens\n",
    "q1_toks = DataPrep.tokenize_question_and_doc(question_doc_raw_train[\"Q1\"])"
   ]
  },
  {
   "cell_type": "code",
   "execution_count": 15,
   "metadata": {
    "id": "xCs1TEXnh8Tv"
   },
   "outputs": [],
   "source": [
    "# returns a list of embedded sentences, with each sentence having one array for each word\n",
    "toks_embedded = EmbedAndConcat.doc_concat(q1_toks[1])"
   ]
  },
  {
   "cell_type": "code",
   "execution_count": 24,
   "metadata": {
    "id": "C5NAHNJr015E"
   },
   "outputs": [],
   "source": [
    "# same as above, but includes named entity recognition tags in the arrays\n",
    "doc_ner_tags = FeatExt.ner_tag_doc(question_doc_raw_train[\"Q1\"][\"document\"])\n",
    "toks_embedded_with_ner = EmbedAndConcat.doc_concat(q1_toks[1], with_ner=True, doc_ner_tags=doc_ner_tags)"
   ]
  },
  {
   "cell_type": "code",
   "execution_count": 25,
   "metadata": {
    "colab": {
     "base_uri": "https://localhost:8080/"
    },
    "executionInfo": {
     "elapsed": 5,
     "status": "ok",
     "timestamp": 1683443489552,
     "user": {
      "displayName": "Nicholas Clarke",
      "userId": "09419617232484039091"
     },
     "user_tz": -480
    },
    "id": "ff1KMajB7IWE",
    "outputId": "df520c05-6920-47df-9d5a-52c0f39944b3"
   },
   "outputs": [
    {
     "data": {
      "text/plain": [
       "array([-0.27085999,  0.044006  , -0.02026   , -0.17395   ,  0.6444    ,\n",
       "        0.71213001,  0.35510001,  0.47138   , -0.29637   ,  0.54426998,\n",
       "       -0.72294003, -0.0047612 ,  0.040611  ,  0.043236  ,  0.29729   ,\n",
       "        0.10725   ,  0.40156001, -0.53662002,  0.033382  ,  0.067396  ,\n",
       "        0.64556003, -0.085523  ,  0.14103   ,  0.094539  ,  0.74947   ,\n",
       "       -0.19400001, -0.68739003, -0.41740999, -0.22807001,  0.12      ,\n",
       "       -0.48999   ,  0.80944997,  0.045138  , -0.11898   ,  0.20161   ,\n",
       "        0.39276001, -0.20121001,  0.31354001,  0.75304002,  0.25907001,\n",
       "       -0.11566   , -0.029319  ,  0.93498999, -0.36067   ,  0.52420002,\n",
       "        0.23706   ,  0.52714998,  0.22869   , -0.51958001, -0.79348999,\n",
       "       -0.20367999, -0.50186998,  0.18748   ,  0.94282001, -0.44834   ,\n",
       "       -3.67919993,  0.044183  , -0.26751   ,  2.19970012,  0.241     ,\n",
       "       -0.033425  ,  0.69553   , -0.64472002, -0.0072277 ,  0.89574999,\n",
       "        0.20015   ,  0.46493   ,  0.61932999, -0.1066    ,  0.08691   ,\n",
       "       -0.4623    ,  0.18262   , -0.15849   ,  0.020791  ,  0.19373   ,\n",
       "        0.063426  , -0.31672999, -0.48177001, -1.38479996,  0.13669001,\n",
       "        0.96859002,  0.049965  , -0.27379999, -0.035686  , -1.05770004,\n",
       "       -0.24467   ,  0.90366   , -0.12442   ,  0.080776  , -0.83401   ,\n",
       "        0.57200998,  0.088945  , -0.42532   , -0.018253  , -0.079995  ,\n",
       "       -0.28580999, -0.01089   , -0.4923    ,  0.63687003,  0.23642001,\n",
       "        2.        ,  0.15108256,  2.        ,  0.        ])"
      ]
     },
     "execution_count": 25,
     "metadata": {},
     "output_type": "execute_result"
    }
   ],
   "source": [
    "toks_embedded_with_ner[0][0]"
   ]
  },
  {
   "cell_type": "code",
   "execution_count": 26,
   "metadata": {
    "id": "puwWMHv2VJv4"
   },
   "outputs": [],
   "source": [
    "# these functions do the same, but for questions\n",
    "q_embedded = EmbedAndConcat.q_concat(q1_toks[0])"
   ]
  },
  {
   "cell_type": "code",
   "execution_count": 27,
   "metadata": {
    "id": "7zqk8tjy5mad"
   },
   "outputs": [],
   "source": [
    "q_ner_tags = FeatExt.ner_tag(question_doc_raw_train[\"Q1\"][\"question\"])\n",
    "q_embedded_with_ner = EmbedAndConcat.q_concat(q1_toks[0], with_ner=True, question_ner_tags=q_ner_tags)"
   ]
  },
  {
   "cell_type": "code",
   "execution_count": 28,
   "metadata": {
    "colab": {
     "base_uri": "https://localhost:8080/"
    },
    "executionInfo": {
     "elapsed": 449,
     "status": "ok",
     "timestamp": 1683443503055,
     "user": {
      "displayName": "Nicholas Clarke",
      "userId": "09419617232484039091"
     },
     "user_tz": -480
    },
    "id": "HN00a6HMCA1H",
    "outputId": "7b20ab91-7109-4c27-9ca8-1af5a4ee6e06"
   },
   "outputs": [
    {
     "data": {
      "text/plain": [
       "array([-2.03140005e-01,  5.04670024e-01, -2.52229989e-01,  3.77880007e-01,\n",
       "       -6.85999990e-01, -1.87439993e-01,  1.86379999e-01, -2.78019994e-01,\n",
       "       -9.51690018e-01,  1.68990001e-01,  1.19739997e+00, -1.08120000e+00,\n",
       "       -3.10339987e-01,  4.56840008e-01,  8.80369991e-02, -8.46429989e-02,\n",
       "       -5.35300016e-01,  3.64959985e-02, -1.38109997e-01,  1.18000004e-02,\n",
       "        1.33480000e+00, -3.48879993e-02, -1.65289998e-01,  7.50750005e-01,\n",
       "        1.89170003e-01,  4.18940008e-01,  6.20199978e-01,  5.20299971e-01,\n",
       "        1.11620001e-01, -2.45849997e-01,  1.90490007e-01,  1.15460002e+00,\n",
       "        1.73400000e-01,  3.51419985e-01,  6.07020020e-01,  2.05279998e-02,\n",
       "        5.24110019e-01,  2.44910002e-01, -4.31690007e-01,  1.48379996e-01,\n",
       "        1.11329997e+00, -5.97199976e-01, -1.18579999e-01, -3.07709992e-01,\n",
       "       -2.79399991e-01,  4.52170014e-01, -6.71729982e-01,  4.22639996e-01,\n",
       "        4.59879994e-01, -2.11520001e-01, -4.26420003e-01,  2.52750009e-01,\n",
       "        5.33089995e-01,  4.56380006e-03, -6.79949999e-01, -1.09379995e+00,\n",
       "       -1.13140002e-01,  1.98550001e-01,  9.14049983e-01,  1.25499994e-01,\n",
       "       -5.40269971e-01, -5.53020000e-01, -3.69129986e-01,  2.29959995e-01,\n",
       "        9.51269984e-01,  7.99780011e-01,  1.89750001e-01,  6.17470026e-01,\n",
       "        5.84739983e-01,  3.89420018e-02, -8.32480013e-01, -1.22809997e-02,\n",
       "       -3.08990002e-01, -2.90069997e-01,  7.61780024e-01, -2.24800006e-01,\n",
       "        1.87279999e-01, -5.84129989e-01, -5.26260018e-01,  1.15360003e-02,\n",
       "        2.68249989e-01, -7.40679979e-01, -8.99489999e-01, -4.22329992e-01,\n",
       "       -2.31470004e-01,  1.89539999e-01, -5.26629984e-01, -1.22239995e+00,\n",
       "        5.51250018e-02,  4.76170003e-01, -4.99940008e-01,  3.23909998e-01,\n",
       "        6.99819982e-01,  6.80019975e-01,  3.75739992e-01, -7.89550021e-02,\n",
       "        2.46730000e-01, -3.46179992e-01, -1.86269999e-01, -3.16060007e-01,\n",
       "        3.50000000e+01])"
      ]
     },
     "execution_count": 28,
     "metadata": {},
     "output_type": "execute_result"
    }
   ],
   "source": [
    "q_embedded[0]"
   ]
  },
  {
   "cell_type": "code",
   "execution_count": 29,
   "metadata": {
    "colab": {
     "base_uri": "https://localhost:8080/"
    },
    "executionInfo": {
     "elapsed": 355,
     "status": "ok",
     "timestamp": 1683443506071,
     "user": {
      "displayName": "Nicholas Clarke",
      "userId": "09419617232484039091"
     },
     "user_tz": -480
    },
    "id": "1KnDOHZL-9Fp",
    "outputId": "8b97d5cc-e39d-4209-bfc1-a4279eebf423"
   },
   "outputs": [
    {
     "data": {
      "text/plain": [
       "array([-2.03140005e-01,  5.04670024e-01, -2.52229989e-01,  3.77880007e-01,\n",
       "       -6.85999990e-01, -1.87439993e-01,  1.86379999e-01, -2.78019994e-01,\n",
       "       -9.51690018e-01,  1.68990001e-01,  1.19739997e+00, -1.08120000e+00,\n",
       "       -3.10339987e-01,  4.56840008e-01,  8.80369991e-02, -8.46429989e-02,\n",
       "       -5.35300016e-01,  3.64959985e-02, -1.38109997e-01,  1.18000004e-02,\n",
       "        1.33480000e+00, -3.48879993e-02, -1.65289998e-01,  7.50750005e-01,\n",
       "        1.89170003e-01,  4.18940008e-01,  6.20199978e-01,  5.20299971e-01,\n",
       "        1.11620001e-01, -2.45849997e-01,  1.90490007e-01,  1.15460002e+00,\n",
       "        1.73400000e-01,  3.51419985e-01,  6.07020020e-01,  2.05279998e-02,\n",
       "        5.24110019e-01,  2.44910002e-01, -4.31690007e-01,  1.48379996e-01,\n",
       "        1.11329997e+00, -5.97199976e-01, -1.18579999e-01, -3.07709992e-01,\n",
       "       -2.79399991e-01,  4.52170014e-01, -6.71729982e-01,  4.22639996e-01,\n",
       "        4.59879994e-01, -2.11520001e-01, -4.26420003e-01,  2.52750009e-01,\n",
       "        5.33089995e-01,  4.56380006e-03, -6.79949999e-01, -1.09379995e+00,\n",
       "       -1.13140002e-01,  1.98550001e-01,  9.14049983e-01,  1.25499994e-01,\n",
       "       -5.40269971e-01, -5.53020000e-01, -3.69129986e-01,  2.29959995e-01,\n",
       "        9.51269984e-01,  7.99780011e-01,  1.89750001e-01,  6.17470026e-01,\n",
       "        5.84739983e-01,  3.89420018e-02, -8.32480013e-01, -1.22809997e-02,\n",
       "       -3.08990002e-01, -2.90069997e-01,  7.61780024e-01, -2.24800006e-01,\n",
       "        1.87279999e-01, -5.84129989e-01, -5.26260018e-01,  1.15360003e-02,\n",
       "        2.68249989e-01, -7.40679979e-01, -8.99489999e-01, -4.22329992e-01,\n",
       "       -2.31470004e-01,  1.89539999e-01, -5.26629984e-01, -1.22239995e+00,\n",
       "        5.51250018e-02,  4.76170003e-01, -4.99940008e-01,  3.23909998e-01,\n",
       "        6.99819982e-01,  6.80019975e-01,  3.75739992e-01, -7.89550021e-02,\n",
       "        2.46730000e-01, -3.46179992e-01, -1.86269999e-01, -3.16060007e-01,\n",
       "        3.50000000e+01,  2.00000000e+00,  0.00000000e+00])"
      ]
     },
     "execution_count": 29,
     "metadata": {},
     "output_type": "execute_result"
    }
   ],
   "source": [
    "q_embedded_with_ner[0]"
   ]
  },
  {
   "cell_type": "markdown",
   "metadata": {
    "id": "1FA2ao2l8hOg"
   },
   "source": [
    "# 2.QA Model Implementation\n",
    "(You can add as many code blocks and text blocks as you need. However, YOU SHOULD NOT MODIFY the section title) "
   ]
  },
  {
   "cell_type": "markdown",
   "metadata": {
    "id": "EzGuzHPE87Ya"
   },
   "source": [
    "# 3.Model Testing\n",
    "(You can add as many code blocks and text blocks as you need. However, YOU SHOULD NOT MODIFY the section title) "
   ]
  },
  {
   "cell_type": "markdown",
   "metadata": {
    "id": "cTNGfO0h9I3W"
   },
   "source": [
    "###3.1. Input Embedding Ablation Study\n",
    "\n",
    "(You can add as many code blocks and text blocks as you need. However, YOU SHOULD NOT MODIFY the section title) \n",
    "\n"
   ]
  },
  {
   "cell_type": "code",
   "execution_count": null,
   "metadata": {
    "id": "XEVsyvrc9VHL"
   },
   "outputs": [],
   "source": []
  },
  {
   "cell_type": "markdown",
   "metadata": {
    "id": "uX7nFwMo9WBE"
   },
   "source": [
    "###3.2. Attention Ablation Study\n",
    "(You can add as many code blocks and text blocks as you need. However, YOU SHOULD NOT MODIFY the section title) "
   ]
  },
  {
   "cell_type": "code",
   "execution_count": null,
   "metadata": {
    "id": "CfRK-BeiNSVi"
   },
   "outputs": [],
   "source": []
  },
  {
   "cell_type": "code",
   "execution_count": null,
   "metadata": {
    "id": "E0VAR8GF9hSD"
   },
   "outputs": [],
   "source": []
  },
  {
   "cell_type": "markdown",
   "metadata": {
    "id": "llzGjUe6NDnB"
   },
   "source": [
    "###3.3. Hyper Parameter Testing\n",
    "(You can add as many code blocks and text blocks as you need. However, YOU SHOULD NOT MODIFY the section title) "
   ]
  },
  {
   "cell_type": "code",
   "execution_count": null,
   "metadata": {
    "id": "2Xj4PNyrNDBH"
   },
   "outputs": [],
   "source": []
  }
 ],
 "metadata": {
  "colab": {
   "provenance": []
  },
  "kernelspec": {
   "display_name": "Python 3 (ipykernel)",
   "language": "python",
   "name": "python3"
  },
  "language_info": {
   "codemirror_mode": {
    "name": "ipython",
    "version": 3
   },
   "file_extension": ".py",
   "mimetype": "text/x-python",
   "name": "python",
   "nbconvert_exporter": "python",
   "pygments_lexer": "ipython3",
   "version": "3.10.9"
  }
 },
 "nbformat": 4,
 "nbformat_minor": 4
}
