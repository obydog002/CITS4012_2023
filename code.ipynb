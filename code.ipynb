{
 "cells": [
  {
   "cell_type": "markdown",
   "metadata": {
    "id": "32yCsRUo8H33"
   },
   "source": [
    "# 2023 CITS4012 Assignment\n",
    "\n",
    "Max Chatfield 22176321\n",
    "\n",
    "Nicholas Clarke 10417777"
   ]
  },
  {
   "cell_type": "markdown",
   "metadata": {
    "id": "6po98qVA8bJD"
   },
   "source": [
    "# 1.DataSet Processing"
   ]
  },
  {
   "cell_type": "code",
   "execution_count": 1,
   "metadata": {
    "id": "CC8Hsr5p5l63"
   },
   "outputs": [],
   "source": [
    "# when not using colab\n",
    "import sys\n",
    "sys.path.append('./src/QA')"
   ]
  },
  {
   "cell_type": "code",
   "execution_count": 1,
   "metadata": {
    "colab": {
     "base_uri": "https://localhost:8080/"
    },
    "executionInfo": {
     "elapsed": 20394,
     "status": "ok",
     "timestamp": 1684504639843,
     "user": {
      "displayName": "Nicholas Clarke",
      "userId": "09419617232484039091"
     },
     "user_tz": -480
    },
    "id": "X_udwNvRF6YV",
    "outputId": "4e0aeabd-37b3-45d5-977e-2e0b5b0308ae"
   },
   "outputs": [
    {
     "name": "stdout",
     "output_type": "stream",
     "text": [
      "Mounted at /content/gdrive\n",
      "/content/gdrive/MyDrive/CITS4012_2023\n"
     ]
    }
   ],
   "source": [
    "# only need to run these commands if using Colab\n",
    "# Mount google drive and change directory to the git repo folder\n",
    "from google.colab import drive\n",
    "drive.mount('/content/gdrive')\n",
    "%cd gdrive/MyDrive/CITS4012_2023\n",
    "import sys\n",
    "# colab seems to require an explicit path for this to work from mounted drive\n",
    "sys.path.append('/content/gdrive/MyDrive/CITS4012_2023/src/QA')"
   ]
  },
  {
   "cell_type": "code",
   "execution_count": 2,
   "metadata": {
    "id": "3Ifc-wwoF7lu"
   },
   "outputs": [],
   "source": [
    "from data_prep import DataPrep\n",
    "import model\n",
    "from model.results_helpers import ResultsHelper"
   ]
  },
  {
   "cell_type": "code",
   "execution_count": 3,
   "metadata": {
    "id": "QIEqDDT78q39"
   },
   "outputs": [],
   "source": [
    "df = DataPrep.parse_tsv('WikiQA-train.tsv')\n",
    "question_doc_raw_train = DataPrep.convert_pd_to_json(df)\n",
    "df = DataPrep.parse_tsv('WikiQA-test.tsv')\n",
    "question_doc_raw_test = DataPrep.convert_pd_to_json(df)"
   ]
  },
  {
   "cell_type": "code",
   "execution_count": 4,
   "metadata": {
    "colab": {
     "base_uri": "https://localhost:8080/"
    },
    "executionInfo": {
     "elapsed": 2,
     "status": "ok",
     "timestamp": 1683443240995,
     "user": {
      "displayName": "Nicholas Clarke",
      "userId": "09419617232484039091"
     },
     "user_tz": -480
    },
    "id": "D6uKdLZbkUKj",
    "outputId": "8aa96bc3-c832-448b-b7a3-52aba6787542"
   },
   "outputs": [
    {
     "data": {
      "text/plain": [
       "{'document': [('A partly submerged glacier cave on Perito Moreno Glacier .',\n",
       "   0),\n",
       "  ('The ice facade is approximately 60 m high', 0),\n",
       "  ('Ice formations in the Titlis glacier cave', 0),\n",
       "  ('A glacier cave is a cave formed within the ice of a glacier .', 1),\n",
       "  ('Glacier caves are often called ice caves , but this term is properly used to describe bedrock caves that contain year-round ice.',\n",
       "   0)],\n",
       " 'question': 'how are glacier caves formed?'}"
      ]
     },
     "execution_count": 4,
     "metadata": {},
     "output_type": "execute_result"
    }
   ],
   "source": [
    "question_doc_raw_train[\"Q1\"]"
   ]
  },
  {
   "cell_type": "markdown",
   "metadata": {
    "id": "aRXp_aqnciDF"
   },
   "source": [
    "NER tagging, some initial testing of the function\n",
    "\n",
    "Questions that NER tagging works in:\n",
    "- how many series in hockey before the stanley cup\n",
    "- how much are the harry potter movies worth\n",
    "\n",
    "Questions it doesn't work in:\n",
    "- how did anne frank die\n",
    "- what did benedict arnold die\n",
    "- how old is kurt cobain's daughter\n"
   ]
  },
  {
   "cell_type": "code",
   "execution_count": 5,
   "metadata": {
    "id": "VTh6y8i2DWtj"
   },
   "outputs": [],
   "source": [
    "from word_embed import WordEmbed"
   ]
  },
  {
   "cell_type": "code",
   "execution_count": 6,
   "metadata": {
    "colab": {
     "base_uri": "https://localhost:8080/"
    },
    "executionInfo": {
     "elapsed": 14736,
     "status": "ok",
     "timestamp": 1683443424804,
     "user": {
      "displayName": "Nicholas Clarke",
      "userId": "09419617232484039091"
     },
     "user_tz": -480
    },
    "id": "U9bQkgTlqOQ2",
    "outputId": "bbe5c710-9a43-4c26-acb8-0a76908d7ebc"
   },
   "outputs": [
    {
     "name": "stderr",
     "output_type": "stream",
     "text": [
      "[nltk_data] Downloading package averaged_perceptron_tagger to\n",
      "[nltk_data]     /home/max/nltk_data...\n",
      "[nltk_data]   Package averaged_perceptron_tagger is already up-to-\n",
      "[nltk_data]       date!\n",
      "[nltk_data] Downloading package stopwords to /home/max/nltk_data...\n",
      "[nltk_data]   Package stopwords is already up-to-date!\n",
      "[nltk_data] Downloading package omw-1.4 to /home/max/nltk_data...\n",
      "[nltk_data]   Package omw-1.4 is already up-to-date!\n",
      "[nltk_data] Downloading package wordnet to /home/max/nltk_data...\n",
      "[nltk_data]   Package wordnet is already up-to-date!\n"
     ]
    }
   ],
   "source": [
    "from feat_extract import FeatExt"
   ]
  },
  {
   "cell_type": "code",
   "execution_count": 7,
   "metadata": {
    "id": "PeeM1KhMGg2S"
   },
   "outputs": [],
   "source": [
    "from embed_doc import EmbedAndConcat"
   ]
  },
  {
   "cell_type": "code",
   "execution_count": 36,
   "metadata": {
    "id": "f15UdJPGkbHW"
   },
   "outputs": [],
   "source": [
    "# returns a tuple with:\n",
    "# 0 - question tokenized\n",
    "# 1 - list of sentences tokenized\n",
    "# 2 - list of corresponding sentence in-or-out tokens\n",
    "q1_toks = DataPrep.tokenize_question_and_doc(question_doc_raw_train[\"Q1\"])"
   ]
  },
  {
   "cell_type": "code",
   "execution_count": 37,
   "metadata": {
    "id": "xCs1TEXnh8Tv"
   },
   "outputs": [],
   "source": [
    "# returns a list of embedded sentences, with each sentence having one array for each word\n",
    "toks_embedded = EmbedAndConcat.doc_concat(q1_toks[1])"
   ]
  },
  {
   "cell_type": "code",
   "execution_count": 38,
   "metadata": {
    "id": "C5NAHNJr015E"
   },
   "outputs": [],
   "source": [
    "# same as above, but includes named entity recognition tags in the arrays\n",
    "doc_ner_tags = FeatExt.ner_tag_doc(question_doc_raw_train[\"Q1\"][\"document\"])\n",
    "toks_embedded_with_ner = EmbedAndConcat.doc_concat(q1_toks[1], with_ner=True, doc_ner_tags=doc_ner_tags)"
   ]
  },
  {
   "cell_type": "code",
   "execution_count": 39,
   "metadata": {
    "id": "puwWMHv2VJv4"
   },
   "outputs": [],
   "source": [
    "# these functions do the same, but for questions\n",
    "q_embedded = EmbedAndConcat.q_concat(q1_toks[0])"
   ]
  },
  {
   "cell_type": "code",
   "execution_count": 40,
   "metadata": {
    "id": "7zqk8tjy5mad"
   },
   "outputs": [],
   "source": [
    "q_ner_tags = FeatExt.ner_tag(question_doc_raw_train[\"Q1\"][\"question\"])\n",
    "q_embedded_with_ner = EmbedAndConcat.q_concat(q1_toks[0], with_ner=True, question_ner_tags=q_ner_tags)"
   ]
  },
  {
   "cell_type": "markdown",
   "metadata": {
    "id": "1FA2ao2l8hOg"
   },
   "source": [
    "# 2.QA Model Implementation"
   ]
  },
  {
   "cell_type": "code",
   "execution_count": 71,
   "metadata": {},
   "outputs": [],
   "source": [
    "# the model we ended up using is in the python file src/QA/model/QA_RNN.py\n",
    "# it is pasted here for examination\n",
    "import torch.nn as nn\n",
    "import torch.nn.functional as F\n",
    "import torch\n",
    "import numpy as np\n",
    "\n",
    "cos = nn.CosineSimilarity(dim=2)\n",
    "\n",
    "# QA with document RNN model\n",
    "# use attention between the question and document.\n",
    "class DocumentModel(nn.Module):\n",
    "    ATTN_TYPE_DOT_PRODUCT = \"Dot Product\"\n",
    "    ATTN_TYPE_SCALED_DOT_PRODUCT = \"Scaled Dot Product\"\n",
    "    ATTN_TYPE_COSINE = \"Cosine\"\n",
    "\n",
    "    HIDDEN_TYPE_RNN = \"RNN\"\n",
    "    HIDDEN_TYPE_LSTM = \"LSTM\"\n",
    "    HIDDEN_TYPE_GRU = \"GRU\"\n",
    "\n",
    "    def __init__(self, n_input, n_hidden, n_class, attention_type=ATTN_TYPE_DOT_PRODUCT, hidden_layers=1, hidden_layer=HIDDEN_TYPE_RNN, bidirectional=True):\n",
    "        super(DocumentModel, self).__init__()\n",
    "\n",
    "        self.attention_type = attention_type\n",
    "        if hidden_layer == DocumentModel.HIDDEN_TYPE_LSTM:\n",
    "            self.rnn = nn.LSTM(n_input, n_hidden, hidden_layers, batch_first=True, bidirectional=bidirectional)\n",
    "        elif hidden_layer == DocumentModel.HIDDEN_TYPE_GRU:\n",
    "            self.rnn = nn.GRU(n_input, n_hidden, hidden_layers, batch_fitst=True, bidirectional=bidirectional)\n",
    "        else: # vanilla RNN\n",
    "            self.rnn = nn.RNN(n_input, n_hidden, hidden_layers, batch_first=True, bidirectional=bidirectional)\n",
    "\n",
    "        linear_layer_size = n_hidden\n",
    "        if bidirectional:\n",
    "            linear_layer_size = 2*linear_layer_size\n",
    "        self.out = nn.Linear(linear_layer_size, n_class)\n",
    "\n",
    "    def calc_attention(self, hidden, question_hidden, method):\n",
    "        if method == DocumentModel.ATTN_TYPE_DOT_PRODUCT:\n",
    "            weights =  F.softmax(torch.bmm(hidden, question_hidden.transpose(1,2)), dim=-1)\n",
    "            attention_output = torch.bmm(weights, question_hidden)\n",
    "        elif method == DocumentModel.ATTN_TYPE_SCALED_DOT_PRODUCT:\n",
    "            weights = F.softmax(torch.bmm(hidden, question_hidden.transpose(1,2))/np.sqrt(hidden.shape[2]), dim=-1)\n",
    "            attention_output = torch.bmm(weights, question_hidden)\n",
    "        elif method == DocumentModel.ATTN_TYPE_COSINE:\n",
    "            weights = F.softmax(cos(hidden, question_hidden.transpose(1,2)), dim=-1)\n",
    "            attention_output = torch.bmm(weights, question_hidden)\n",
    "        return attention_output\n",
    "\n",
    "    def forward(self, input, question_hidden):        \n",
    "        rnn_output, _ = self.rnn(input) \n",
    "\n",
    "        attention_output = self.calc_attention(rnn_output, question_hidden, self.attention_type)\n",
    "\n",
    "        # log softmax as we use a negative log likelihood loss\n",
    "        output = F.log_softmax(self.out(attention_output), dim=-1)\n",
    "        return output\n",
    "\n",
    "class QuestionModel(nn.Module):\n",
    "    def __init__(self, n_input, n_hidden, hidden_layers=1, hidden_layer=DocumentModel.HIDDEN_TYPE_RNN, bidirectional=True):\n",
    "        super(QuestionModel, self).__init__()\n",
    "\n",
    "        if hidden_layer == DocumentModel.HIDDEN_TYPE_LSTM:\n",
    "            self.rnn = nn.LSTM(n_input, n_hidden, hidden_layers, batch_first=True, bidirectional=bidirectional)\n",
    "        elif hidden_layer == DocumentModel.HIDDEN_TYPE_GRU:\n",
    "            self.rnn = nn.GRU(n_input, n_hidden, hidden_layers, batch_fitst=True, bidirectional=bidirectional)\n",
    "        else: # vanilla RNN\n",
    "            self.rnn = nn.RNN(n_input, n_hidden, hidden_layers, batch_first=True, bidirectional=bidirectional)\n",
    "\n",
    "    def forward(self, input):\n",
    "        rnn_output, _ = self.rnn(input)\n",
    "\n",
    "        return rnn_output"
   ]
  },
  {
   "cell_type": "code",
   "execution_count": 51,
   "metadata": {},
   "outputs": [],
   "source": [
    "from pad import Pad\n",
    "Out_And_In_target2int = {\"OOA\": 0, \"IOA\": 1, \"BOA\": 1, \"EOA\": 1}\n",
    "Out_In_Beg_End_target2int = {\"OOA\": 0, \"IOA\": 1, \"BOA\": 2, \"EOA\": 3}\n",
    "Bef_In_Aft_target2int = {\"BA\": 0, \"IA\": 1, \"AA\": 2}\n",
    "from stat_helper import StatHelper\n",
    "import torch\n",
    "\n",
    "def load_and_get_tensors(loading_param):\n",
    "    q_cut_size = loading_param[\"q_cut_size\"]\n",
    "    doc_cut_size = loading_param[\"doc_cut_size\"]\n",
    "    answer_type = loading_param[\"answer_type\"]\n",
    "    befaft = loading_param[\"befaft\"]\n",
    "    doc_with_pos = loading_param[\"doc_with_pos\"]\n",
    "    doc_with_tfidf = loading_param[\"doc_with_tfidf\"]\n",
    "    doc_with_ner = loading_param[\"doc_with_ner\"]\n",
    "    doc_with_wm = loading_param[\"doc_with_wm\"]\n",
    "    q_with_pos = loading_param[\"q_with_pos\"]\n",
    "    q_with_ner = loading_param[\"q_with_ner\"]\n",
    "    train_q_inputs, train_doc_inputs, train_doc_targets = EmbedAndConcat.get_unrolled_embeddings(question_doc_raw_train, befaft, doc_with_pos, doc_with_tfidf, doc_with_ner, doc_with_wm, q_with_pos, q_with_ner)\n",
    "\n",
    "    test_q_inputs, test_doc_inputs, test_doc_targets = EmbedAndConcat.get_unrolled_embeddings(question_doc_raw_test, befaft, doc_with_pos, doc_with_tfidf, doc_with_ner, doc_with_wm, q_with_pos, q_with_ner)\n",
    "\n",
    "    if q_cut_size == \"Max\":\n",
    "        q_cut_size = max(Pad.get_max(train_q_inputs), Pad.get_max(test_q_inputs))\n",
    "    if doc_cut_size == \"Max\":\n",
    "        doc_cut_size = max(Pad.get_max(train_doc_inputs), Pad.get_max(test_doc_inputs))\n",
    "\n",
    "    # ignore answer_type if we are doing befaft\n",
    "    if befaft:\n",
    "        target2int = Bef_In_Aft_target2int\n",
    "    elif answer_type == \"Out_And_In\":\n",
    "        target2int = Out_And_In_target2int\n",
    "    elif answer_type == \"Out_In_Beg_End\":\n",
    "        target2int = Out_In_Beg_End_target2int\n",
    "\n",
    "    Pad.cut_pad_to(q_cut_size, train_q_inputs)\n",
    "    Pad.cut_pad_to(q_cut_size, test_q_inputs)\n",
    "    Pad.cut_pad_to(doc_cut_size, train_doc_inputs)\n",
    "    Pad.cut_pad_to(doc_cut_size, test_doc_inputs)\n",
    "    Pad.cut_pad_to(doc_cut_size, train_doc_targets, target=True)\n",
    "    Pad.cut_pad_to(doc_cut_size, test_doc_targets, target=True)\n",
    "\n",
    "    Pad.convert_targets(train_doc_targets, target2int)\n",
    "    Pad.convert_targets(test_doc_targets, target2int)\n",
    "    number_of_classes = max(target2int.values()) + 1\n",
    "\n",
    "    training_class_weights = StatHelper.get_class_weights(train_doc_targets, number_of_classes)\n",
    "\n",
    "    train_question_tensor = torch.Tensor(train_q_inputs)\n",
    "    train_doc_tensor = torch.Tensor(train_doc_inputs)\n",
    "    train_target_tensor = torch.LongTensor(train_doc_targets)\n",
    "\n",
    "    test_question_tensor = torch.Tensor(test_q_inputs)\n",
    "    test_doc_tensor = torch.Tensor(test_doc_inputs)\n",
    "    test_target_tensor = torch.LongTensor(test_doc_targets)\n",
    "\n",
    "    return train_question_tensor, train_doc_tensor, train_target_tensor, training_class_weights, test_question_tensor, test_doc_tensor, test_target_tensor, number_of_classes"
   ]
  },
  {
   "cell_type": "code",
   "execution_count": 97,
   "metadata": {},
   "outputs": [],
   "source": [
    "from model import QA_RNN\n",
    "from model.train import Trainer\n",
    "from model.eval import Eval \n",
    "import torch.nn as nn\n",
    "from torch import optim\n",
    "\n",
    "def do_training_and_eval(train_question_tensor, train_doc_tensor, train_target_tensor, train_loader, test_question_tensor, test_doc_tensor, test_target_tensor, training_class_weights, number_of_classes, training_param):\n",
    "    learning_rate = training_param[\"learning_rate\"]\n",
    "    bidirectional = training_param[\"bidirectional\"]\n",
    "    attention_type = training_param[\"attention_type\"]\n",
    "    hidden_type = training_param[\"hidden_type\"]  \n",
    "    doc_hidden_layers = training_param[\"doc_hidden_layers\"]\n",
    "    hidden_size = training_param[\"hidden_size\"]\n",
    "    iters_inc = training_param[\"iters_inc\"]\n",
    "\n",
    "    q_embed_size = list(train_loader)[0][0].shape[2]\n",
    "    doc_embed_size = list(train_loader)[0][1].shape[2]\n",
    "\n",
    "    doc_rnn_model = QA_RNN.DocumentModel(doc_embed_size, hidden_size, number_of_classes, attention_type=attention_type, hidden_layers = doc_hidden_layers, hidden_layer=hidden_type, bidirectional=bidirectional).to(device)\n",
    "    question_rnn_model = QA_RNN.QuestionModel(q_embed_size, hidden_size, hidden_layers = doc_hidden_layers, hidden_layer=hidden_type, bidirectional=bidirectional).to(device)\n",
    "\n",
    "    criterion = nn.NLLLoss(weight=torch.Tensor(training_class_weights))\n",
    "    question_model_optimizer = optim.SGD(question_rnn_model.parameters(), lr=learning_rate)\n",
    "    document_model_optimizer = optim.SGD(doc_rnn_model.parameters(), lr=learning_rate)\n",
    "\n",
    "    results = {}\n",
    "    best_model = None\n",
    "    best_test_f1 = -1.0\n",
    "    total_iters = 0\n",
    "    for inc in iters_inc:\n",
    "        Trainer.trainIters(question_rnn_model, doc_rnn_model, inc, train_loader, criterion, question_model_optimizer, document_model_optimizer)\n",
    "        train_loss, train_report = Eval.evaluate(train_question_tensor, train_doc_tensor, train_target_tensor, question_rnn_model, doc_rnn_model, criterion)\n",
    "        test_loss, test_report = Eval.evaluate(test_question_tensor, test_doc_tensor, test_target_tensor, question_rnn_model, doc_rnn_model, criterion)\n",
    "        total_iters += inc\n",
    "        results[total_iters] = {\"train_loss\": train_loss, \"train_report\": train_report, \"test_loss\": test_loss, \"test_report\": test_report}\n",
    "        if test_report[\"1\"][\"f1-score\"] > best_test_f1:\n",
    "            best_test_f1 = test_report[\"1\"][\"f1-score\"]\n",
    "            best_model = (doc_rnn_model, question_rnn_model)\n",
    "\n",
    "    return results, best_model"
   ]
  },
  {
   "cell_type": "code",
   "execution_count": 98,
   "metadata": {
    "id": "zwWBCG_tOkDD"
   },
   "outputs": [],
   "source": [
    "from torch.utils.data import TensorDataset\n",
    "from torch.utils.data import DataLoader\n",
    "\n",
    "loading_param = {\"q_cut_size\": \"Max\", \"doc_cut_size\": 256, \"answer_type\": \"Out_And_In\", \"befaft\": False, \n",
    "                 \"doc_with_pos\": False, \"doc_with_tfidf\": False, \"doc_with_ner\": True, \"doc_with_wm\": False, \n",
    "                 \"q_with_pos\": True, \"q_with_ner\": False}\n",
    "\n",
    "train_question_tensor, train_doc_tensor, train_target_tensor, training_class_weights, test_question_tensor, test_doc_tensor, test_target_tensor, number_of_classes = load_and_get_tensors(loading_param)\n",
    "train_dataset = TensorDataset(train_question_tensor, train_doc_tensor, train_target_tensor)\n",
    "train_loader = DataLoader(dataset=train_dataset, batch_size=128, shuffle=True)"
   ]
  },
  {
   "cell_type": "code",
   "execution_count": 99,
   "metadata": {},
   "outputs": [],
   "source": [
    "device = torch.device(\"cuda\" if torch.cuda.is_available() else \"cpu\")"
   ]
  },
  {
   "cell_type": "code",
   "execution_count": 100,
   "metadata": {},
   "outputs": [
    {
     "ename": "TypeError",
     "evalue": "RNNBase.__init__() got an unexpected keyword argument 'batch_fitst'",
     "output_type": "error",
     "traceback": [
      "\u001b[0;31m---------------------------------------------------------------------------\u001b[0m",
      "\u001b[0;31mTypeError\u001b[0m                                 Traceback (most recent call last)",
      "Cell \u001b[0;32mIn[100], line 3\u001b[0m\n\u001b[1;32m      1\u001b[0m training_param \u001b[38;5;241m=\u001b[39m {\u001b[38;5;124m\"\u001b[39m\u001b[38;5;124mlearning_rate\u001b[39m\u001b[38;5;124m\"\u001b[39m: \u001b[38;5;241m0.1\u001b[39m, \u001b[38;5;124m\"\u001b[39m\u001b[38;5;124mbidirectional\u001b[39m\u001b[38;5;124m\"\u001b[39m: \u001b[38;5;28;01mFalse\u001b[39;00m, \u001b[38;5;124m\"\u001b[39m\u001b[38;5;124mattention_type\u001b[39m\u001b[38;5;124m\"\u001b[39m: QA_RNN\u001b[38;5;241m.\u001b[39mDocumentModel\u001b[38;5;241m.\u001b[39mATTN_TYPE_DOT_PRODUCT, \n\u001b[1;32m      2\u001b[0m                   \u001b[38;5;124m\"\u001b[39m\u001b[38;5;124mhidden_type\u001b[39m\u001b[38;5;124m\"\u001b[39m: QA_RNN\u001b[38;5;241m.\u001b[39mDocumentModel\u001b[38;5;241m.\u001b[39mHIDDEN_TYPE_GRU, \u001b[38;5;124m\"\u001b[39m\u001b[38;5;124mdoc_hidden_layers\u001b[39m\u001b[38;5;124m\"\u001b[39m: \u001b[38;5;241m2\u001b[39m, \u001b[38;5;124m\"\u001b[39m\u001b[38;5;124mhidden_size\u001b[39m\u001b[38;5;124m\"\u001b[39m: \u001b[38;5;241m100\u001b[39m, \u001b[38;5;124m\"\u001b[39m\u001b[38;5;124miters_inc\u001b[39m\u001b[38;5;124m\"\u001b[39m: [\u001b[38;5;241m1\u001b[39m,\u001b[38;5;241m4\u001b[39m,\u001b[38;5;241m5\u001b[39m,\u001b[38;5;241m10\u001b[39m,\u001b[38;5;241m20\u001b[39m,\u001b[38;5;241m40\u001b[39m]}\n\u001b[0;32m----> 3\u001b[0m bm_results, best_model \u001b[38;5;241m=\u001b[39m \u001b[43mdo_training_and_eval\u001b[49m\u001b[43m(\u001b[49m\u001b[43mtrain_question_tensor\u001b[49m\u001b[43m,\u001b[49m\u001b[43m \u001b[49m\u001b[43mtrain_doc_tensor\u001b[49m\u001b[43m,\u001b[49m\u001b[43m \u001b[49m\u001b[43mtrain_target_tensor\u001b[49m\u001b[43m,\u001b[49m\u001b[43m \u001b[49m\n\u001b[1;32m      4\u001b[0m \u001b[43m                                      \u001b[49m\u001b[43mtrain_loader\u001b[49m\u001b[43m,\u001b[49m\u001b[43m \u001b[49m\u001b[43mtest_question_tensor\u001b[49m\u001b[43m,\u001b[49m\u001b[43m \u001b[49m\u001b[43mtest_doc_tensor\u001b[49m\u001b[43m,\u001b[49m\u001b[43m \u001b[49m\n\u001b[1;32m      5\u001b[0m \u001b[43m                                      \u001b[49m\u001b[43mtest_target_tensor\u001b[49m\u001b[43m,\u001b[49m\u001b[43m \u001b[49m\u001b[43mtraining_class_weights\u001b[49m\u001b[43m,\u001b[49m\u001b[43m \u001b[49m\u001b[43mnumber_of_classes\u001b[49m\u001b[43m,\u001b[49m\u001b[43m \u001b[49m\u001b[43mtraining_param\u001b[49m\u001b[43m)\u001b[49m\n",
      "Cell \u001b[0;32mIn[97], line 19\u001b[0m, in \u001b[0;36mdo_training_and_eval\u001b[0;34m(train_question_tensor, train_doc_tensor, train_target_tensor, train_loader, test_question_tensor, test_doc_tensor, test_target_tensor, training_class_weights, number_of_classes, training_param)\u001b[0m\n\u001b[1;32m     16\u001b[0m q_embed_size \u001b[38;5;241m=\u001b[39m \u001b[38;5;28mlist\u001b[39m(train_loader)[\u001b[38;5;241m0\u001b[39m][\u001b[38;5;241m0\u001b[39m]\u001b[38;5;241m.\u001b[39mshape[\u001b[38;5;241m2\u001b[39m]\n\u001b[1;32m     17\u001b[0m doc_embed_size \u001b[38;5;241m=\u001b[39m \u001b[38;5;28mlist\u001b[39m(train_loader)[\u001b[38;5;241m0\u001b[39m][\u001b[38;5;241m1\u001b[39m]\u001b[38;5;241m.\u001b[39mshape[\u001b[38;5;241m2\u001b[39m]\n\u001b[0;32m---> 19\u001b[0m doc_rnn_model \u001b[38;5;241m=\u001b[39m \u001b[43mQA_RNN\u001b[49m\u001b[38;5;241;43m.\u001b[39;49m\u001b[43mDocumentModel\u001b[49m\u001b[43m(\u001b[49m\u001b[43mdoc_embed_size\u001b[49m\u001b[43m,\u001b[49m\u001b[43m \u001b[49m\u001b[43mhidden_size\u001b[49m\u001b[43m,\u001b[49m\u001b[43m \u001b[49m\u001b[43mnumber_of_classes\u001b[49m\u001b[43m,\u001b[49m\u001b[43m \u001b[49m\u001b[43mhidden_layers\u001b[49m\u001b[43m \u001b[49m\u001b[38;5;241;43m=\u001b[39;49m\u001b[43m \u001b[49m\u001b[43mdoc_hidden_layers\u001b[49m\u001b[43m,\u001b[49m\u001b[43m \u001b[49m\u001b[43mhidden_layer\u001b[49m\u001b[38;5;241;43m=\u001b[39;49m\u001b[43mhidden_type\u001b[49m\u001b[43m,\u001b[49m\u001b[43m \u001b[49m\u001b[43mbidirectional\u001b[49m\u001b[38;5;241;43m=\u001b[39;49m\u001b[43mbidirectional\u001b[49m\u001b[43m)\u001b[49m\u001b[38;5;241m.\u001b[39mto(device)\n\u001b[1;32m     20\u001b[0m question_rnn_model \u001b[38;5;241m=\u001b[39m QA_RNN\u001b[38;5;241m.\u001b[39mQuestionModel(q_embed_size, hidden_size, hidden_layers \u001b[38;5;241m=\u001b[39m doc_hidden_layers, hidden_layer\u001b[38;5;241m=\u001b[39mhidden_type, bidirectional\u001b[38;5;241m=\u001b[39mbidirectional)\u001b[38;5;241m.\u001b[39mto(device)\n\u001b[1;32m     22\u001b[0m criterion \u001b[38;5;241m=\u001b[39m nn\u001b[38;5;241m.\u001b[39mNLLLoss(weight\u001b[38;5;241m=\u001b[39mtorch\u001b[38;5;241m.\u001b[39mTensor(training_class_weights))\n",
      "File \u001b[0;32m~/Documents/school/CITS4012/project/./src/QA/model/QA_RNN.py:26\u001b[0m, in \u001b[0;36mDocumentModel.__init__\u001b[0;34m(self, n_input, n_hidden, n_class, attention_type, hidden_layers, hidden_layer, bidirectional)\u001b[0m\n\u001b[1;32m     24\u001b[0m     \u001b[38;5;28mself\u001b[39m\u001b[38;5;241m.\u001b[39mrnn \u001b[38;5;241m=\u001b[39m nn\u001b[38;5;241m.\u001b[39mLSTM(n_input, n_hidden, hidden_layers, batch_first\u001b[38;5;241m=\u001b[39m\u001b[38;5;28;01mTrue\u001b[39;00m, bidirectional\u001b[38;5;241m=\u001b[39mbidirectional)\n\u001b[1;32m     25\u001b[0m \u001b[38;5;28;01melif\u001b[39;00m hidden_layer \u001b[38;5;241m==\u001b[39m DocumentModel\u001b[38;5;241m.\u001b[39mHIDDEN_TYPE_GRU:\n\u001b[0;32m---> 26\u001b[0m     \u001b[38;5;28mself\u001b[39m\u001b[38;5;241m.\u001b[39mrnn \u001b[38;5;241m=\u001b[39m \u001b[43mnn\u001b[49m\u001b[38;5;241;43m.\u001b[39;49m\u001b[43mGRU\u001b[49m\u001b[43m(\u001b[49m\u001b[43mn_input\u001b[49m\u001b[43m,\u001b[49m\u001b[43m \u001b[49m\u001b[43mn_hidden\u001b[49m\u001b[43m,\u001b[49m\u001b[43m \u001b[49m\u001b[43mhidden_layers\u001b[49m\u001b[43m,\u001b[49m\u001b[43m \u001b[49m\u001b[43mbatch_fitst\u001b[49m\u001b[38;5;241;43m=\u001b[39;49m\u001b[38;5;28;43;01mTrue\u001b[39;49;00m\u001b[43m,\u001b[49m\u001b[43m \u001b[49m\u001b[43mbidirectional\u001b[49m\u001b[38;5;241;43m=\u001b[39;49m\u001b[43mbidirectional\u001b[49m\u001b[43m)\u001b[49m\n\u001b[1;32m     27\u001b[0m \u001b[38;5;28;01melse\u001b[39;00m: \u001b[38;5;66;03m# vanilla RNN\u001b[39;00m\n\u001b[1;32m     28\u001b[0m     \u001b[38;5;28mself\u001b[39m\u001b[38;5;241m.\u001b[39mrnn \u001b[38;5;241m=\u001b[39m nn\u001b[38;5;241m.\u001b[39mRNN(n_input, n_hidden, hidden_layers, batch_first\u001b[38;5;241m=\u001b[39m\u001b[38;5;28;01mTrue\u001b[39;00m, bidirectional\u001b[38;5;241m=\u001b[39mbidirectional)\n",
      "File \u001b[0;32m~/anaconda3/envs/nlp/lib/python3.10/site-packages/torch/nn/modules/rnn.py:943\u001b[0m, in \u001b[0;36mGRU.__init__\u001b[0;34m(self, *args, **kwargs)\u001b[0m\n\u001b[1;32m    941\u001b[0m \u001b[38;5;28;01mif\u001b[39;00m \u001b[38;5;124m'\u001b[39m\u001b[38;5;124mproj_size\u001b[39m\u001b[38;5;124m'\u001b[39m \u001b[38;5;129;01min\u001b[39;00m kwargs:\n\u001b[1;32m    942\u001b[0m     \u001b[38;5;28;01mraise\u001b[39;00m \u001b[38;5;167;01mValueError\u001b[39;00m(\u001b[38;5;124m\"\u001b[39m\u001b[38;5;124mproj_size argument is only supported for LSTM, not RNN or GRU\u001b[39m\u001b[38;5;124m\"\u001b[39m)\n\u001b[0;32m--> 943\u001b[0m \u001b[38;5;28;43msuper\u001b[39;49m\u001b[43m(\u001b[49m\u001b[43m)\u001b[49m\u001b[38;5;241;43m.\u001b[39;49m\u001b[38;5;21;43m__init__\u001b[39;49m\u001b[43m(\u001b[49m\u001b[38;5;124;43m'\u001b[39;49m\u001b[38;5;124;43mGRU\u001b[39;49m\u001b[38;5;124;43m'\u001b[39;49m\u001b[43m,\u001b[49m\u001b[43m \u001b[49m\u001b[38;5;241;43m*\u001b[39;49m\u001b[43margs\u001b[49m\u001b[43m,\u001b[49m\u001b[43m \u001b[49m\u001b[38;5;241;43m*\u001b[39;49m\u001b[38;5;241;43m*\u001b[39;49m\u001b[43mkwargs\u001b[49m\u001b[43m)\u001b[49m\n",
      "\u001b[0;31mTypeError\u001b[0m: RNNBase.__init__() got an unexpected keyword argument 'batch_fitst'"
     ]
    }
   ],
   "source": [
    "training_param = {\"learning_rate\": 0.1, \"bidirectional\": False, \"attention_type\": QA_RNN.DocumentModel.ATTN_TYPE_DOT_PRODUCT, \n",
    "                  \"hidden_type\": QA_RNN.DocumentModel.HIDDEN_TYPE_GRU, \"doc_hidden_layers\": 2, \"hidden_size\": 100, \"iters_inc\": [1,4,5,10,20,40]}\n",
    "bm_results, best_model = do_training_and_eval(train_question_tensor, train_doc_tensor, train_target_tensor, \n",
    "                                      train_loader, test_question_tensor, test_doc_tensor, \n",
    "                                      test_target_tensor, training_class_weights, number_of_classes, training_param)"
   ]
  },
  {
   "cell_type": "code",
   "execution_count": 8,
   "metadata": {},
   "outputs": [],
   "source": [
    "# If using JUPYTER\n",
    "results_file = \"models/results.pkl\""
   ]
  },
  {
   "cell_type": "code",
   "execution_count": null,
   "metadata": {},
   "outputs": [],
   "source": [
    "# GOOGLE\n",
    "%cd /content/gdrive/MyDrive/CITS4012_2023/models\n",
    "results_file = \"results.pkl\""
   ]
  },
  {
   "cell_type": "code",
   "execution_count": 9,
   "metadata": {},
   "outputs": [],
   "source": [
    "import pickle\n",
    "results = pickle.load(open(results_file, \"rb\"))"
   ]
  },
  {
   "cell_type": "code",
   "execution_count": 10,
   "metadata": {},
   "outputs": [],
   "source": [
    "def get_keys_from_model(model):\n",
    "    return dict(list(model.items())[0][0])\n",
    "\n",
    "def remove_param(param, name):\n",
    "    cut_param = dict(param)\n",
    "    del cut_param[name]\n",
    "    return cut_param"
   ]
  },
  {
   "cell_type": "code",
   "execution_count": 11,
   "metadata": {},
   "outputs": [],
   "source": [
    "# find the best model on the results given\n",
    "# chooses the highest seen test f1 score\n",
    "def get_best_model(results):\n",
    "    best_f1_seen = 0.0\n",
    "    best_model = None\n",
    "    best_model_it = None\n",
    "    for key, value in results.items():\n",
    "        for it, model_results in value.items():\n",
    "            model_f1 = model_results[\"test_report\"][\"1\"][\"f1-score\"]\n",
    "            if model_f1 > best_f1_seen:\n",
    "                best_f1_seen = model_f1\n",
    "                best_model = {key: value}\n",
    "                best_model_it = it\n",
    "    \n",
    "    return best_f1_seen, best_model, best_model_it"
   ]
  },
  {
   "cell_type": "code",
   "execution_count": 12,
   "metadata": {},
   "outputs": [],
   "source": [
    "best_f1_seen, best_model, best_model_it = get_best_model(results)"
   ]
  },
  {
   "cell_type": "code",
   "execution_count": 18,
   "metadata": {},
   "outputs": [
    {
     "data": {
      "text/plain": [
       "{'hidden_type': 'GRU',\n",
       " 'doc_with_pos': False,\n",
       " 'batch': 128,\n",
       " 'q_cut_size': 'Max',\n",
       " 'doc_with_ner': True,\n",
       " 'doc_hidden_layers': 2,\n",
       " 'doc_with_wm': False,\n",
       " 'bidirectional': False,\n",
       " 'hidden_size': 100,\n",
       " 'doc_cut_size': 256,\n",
       " 'iters_inc': (1, 4, 5, 10, 20, 40),\n",
       " 'doc_with_tfidf': False,\n",
       " 'q_with_pos': True,\n",
       " 'learning_rate': 0.1,\n",
       " 'answer_type': 'Out_And_In',\n",
       " 'q_with_ner': False,\n",
       " 'befaft': False,\n",
       " 'attention_type': 'Dot Product'}"
      ]
     },
     "execution_count": 18,
     "metadata": {},
     "output_type": "execute_result"
    }
   ],
   "source": [
    "best_model_params = get_keys_from_model(best_model)\n",
    "best_model_params"
   ]
  },
  {
   "cell_type": "markdown",
   "metadata": {
    "id": "EzGuzHPE87Ya"
   },
   "source": [
    "# 3.Model Testing"
   ]
  },
  {
   "cell_type": "markdown",
   "metadata": {
    "id": "cTNGfO0h9I3W"
   },
   "source": [
    "### 3.1. Input Embedding Ablation Study"
   ]
  },
  {
   "cell_type": "code",
   "execution_count": 17,
   "metadata": {},
   "outputs": [
    {
     "data": {
      "image/png": "[encoded data removed]",
      "text/plain": [
       "<Figure size 800x400 with 1 Axes>"
      ]
     },
     "metadata": {},
     "output_type": "display_data"
    }
   ],
   "source": [
    "import matplotlib.pyplot as plt\n",
    "plt.figure(figsize=(8,4))\n",
    "bm_no_embeddings_params = best_model_params.copy()\n",
    "bm_no_embeddings_params[\"doc_with_ner\"] = False\n",
    "bm_no_embeddings_params[\"q_with_pos\"] = False\n",
    "bm_no_embeddings = ResultsHelper.get_matching_models(bm_no_embeddings_params, results)\n",
    "bm_all_embeddings_params = best_model_params.copy()\n",
    "bm_all_embeddings_params[\"q_with_ner\"] = True\n",
    "bm_all_embeddings_params[\"doc_with_pos\"] = True\n",
    "bm_all_embeddings_params[\"doc_with_tfidf\"] = True\n",
    "bm_all_embeddings_params[\"doc_with_wm\"] = True\n",
    "bm_all_embeddings = ResultsHelper.get_matching_models(bm_all_embeddings_params, results)\n",
    "bm_selected_embeddings_params = best_model_params.copy()\n",
    "bm_selected_embeddings_params[\"doc_with_tfidf\"] = True\n",
    "bm_selected_embeddings_params[\"doc_with_wm\"] = True\n",
    "bm_selected_embeddings_params[\"q_with_ner\"] = True\n",
    "bm_selected_embeddings_params[\"q_with_pos\"] = False\n",
    "bm_selected_embeddings = ResultsHelper.get_matching_models(bm_selected_embeddings_params, results)\n",
    "ResultsHelper.plot_comparison_metrics_on_one_it([best_model, bm_no_embeddings, bm_all_embeddings, bm_selected_embeddings], it=80, train=False)\n",
    "plt.legend()\n",
    "plt.xticks([0,1,2,3], [\"Best Embeddings\", \"No Embeddings\", \"All Embeddings\", \"Selected Embeddings\"])\n",
    "plt.show()"
   ]
  },
  {
   "cell_type": "markdown",
   "metadata": {
    "id": "uX7nFwMo9WBE"
   },
   "source": [
    "### 3.2. Attention Ablation Study"
   ]
  },
  {
   "cell_type": "code",
   "execution_count": 15,
   "metadata": {
    "id": "CfRK-BeiNSVi"
   },
   "outputs": [
    {
     "data": {
      "image/png": "[encoded data removed]",
      "text/plain": [
       "<Figure size 800x400 with 1 Axes>"
      ]
     },
     "metadata": {},
     "output_type": "display_data"
    }
   ],
   "source": [
    "bm_scaled_dot_params = best_model_params.copy()\n",
    "bm_scaled_dot_params[\"attention_type\"] = \"Scaled Dot Product\"\n",
    "bm_scaled_dot = ResultsHelper.get_matching_models(bm_scaled_dot_params, results)\n",
    "bm_tanh_params = best_model_params.copy()\n",
    "bm_tanh_params[\"attention_type\"] = \"Tanh\"\n",
    "bm_tanh = ResultsHelper.get_matching_models(bm_tanh_params, results)\n",
    "plt.figure(figsize=(8,4))\n",
    "ResultsHelper.plot_comparison_metrics_on_one_it([best_model, bm_scaled_dot, bm_tanh], it=80, train=False)\n",
    "plt.legend()\n",
    "plt.xticks([0,1, 2], [\"Dot Product\", \"Scaled Dot Product\", \"Tanh Dot Product\"])\n",
    "plt.show()"
   ]
  },
  {
   "cell_type": "markdown",
   "metadata": {
    "id": "llzGjUe6NDnB"
   },
   "source": [
    "### 3.3. Hyper Parameter Testing "
   ]
  },
  {
   "cell_type": "code",
   "execution_count": 16,
   "metadata": {
    "id": "2Xj4PNyrNDBH"
   },
   "outputs": [
    {
     "data": {
      "image/png": "[encoded data removed]",
      "text/plain": [
       "<Figure size 800x400 with 1 Axes>"
      ]
     },
     "metadata": {},
     "output_type": "display_data"
    }
   ],
   "source": [
    "plt.figure(figsize=(8,4))\n",
    "ResultsHelper.plot_metrics_over_its(best_model, train=False)\n",
    "plt.legend()\n",
    "plt.show()"
   ]
  }
 ],
 "metadata": {
  "colab": {
   "provenance": []
  },
  "kernelspec": {
   "display_name": "Python 3 (ipykernel)",
   "language": "python",
   "name": "python3"
  },
  "language_info": {
   "codemirror_mode": {
    "name": "ipython",
    "version": 3
   },
   "file_extension": ".py",
   "mimetype": "text/x-python",
   "name": "python",
   "nbconvert_exporter": "python",
   "pygments_lexer": "ipython3",
   "version": "3.10.9"
  }
 },
 "nbformat": 4,
 "nbformat_minor": 4
}
