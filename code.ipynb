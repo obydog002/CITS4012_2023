{
 "cells": [
  {
   "cell_type": "markdown",
   "metadata": {
    "id": "32yCsRUo8H33"
   },
   "source": [
    "# 2023 CITS4012 Assignment\n",
    "*Make sure you change the file name with your student id.*"
   ]
  },
  {
   "cell_type": "markdown",
   "metadata": {
    "id": "XCybYoGz8YWQ"
   },
   "source": [
    "# Readme\n",
    "*If there is something to be noted for the marker, please mention here.* \n",
    "\n",
    "*If you are planning to implement a program with Object Oriented Programming style, please check the bottom of the this ipynb file*"
   ]
  },
  {
   "cell_type": "markdown",
   "metadata": {
    "id": "6po98qVA8bJD"
   },
   "source": [
    "# 1.DataSet Processing\n",
    "(You can add as many code blocks and text blocks as you need. However, YOU SHOULD NOT MODIFY the section title) "
   ]
  },
  {
   "cell_type": "code",
   "execution_count": 100,
   "metadata": {
    "id": "qvff21Hv8zjk"
   },
   "outputs": [],
   "source": [
    "import sys\n",
    "sys.path.append('./src/QA')\n",
    "from data_prep import DataPrep"
   ]
  },
  {
   "cell_type": "markdown",
   "metadata": {
    "id": "1FA2ao2l8hOg"
   },
   "source": [
    "# 2.QA Model Implementation\n",
    "(You can add as many code blocks and text blocks as you need. However, YOU SHOULD NOT MODIFY the section title) "
   ]
  },
  {
   "cell_type": "code",
   "execution_count": 111,
   "metadata": {
    "id": "QIEqDDT78q39"
   },
   "outputs": [],
   "source": [
    "df = DataPrep.parse_tsv('WikiQA-train.tsv')\n",
    "question_id_list = df.loc[:, \"QuestionID\"]\n",
    "question_id_list = list(set(question_id_list))\n",
    "question_id_list.sort() # fix sorting or dont sort\n",
    "\n",
    "question_id = {}\n",
    "for i in df.index:\n",
    "    row = df.loc[i]\n",
    "    id = row[\"QuestionID\"]\n",
    "    if id not in question_id:\n",
    "        question_id[id] = {\"lines\": []}\n",
    "        \n",
    "    question_id[id][\"lines\"].append({\"sentence\": row[\"Sentence\"], \"label\": row[\"Label\"]})"
   ]
  },
  {
   "cell_type": "code",
   "execution_count": 110,
   "metadata": {},
   "outputs": [
    {
     "name": "stdout",
     "output_type": "stream",
     "text": [
      "{'sentence': 'A partly submerged glacier cave on Perito Moreno Glacier .', 'label': 0}\n",
      "{'sentence': 'The ice facade is approximately 60 m high', 'label': 0}\n",
      "{'sentence': 'Ice formations in the Titlis glacier cave', 'label': 0}\n",
      "{'sentence': 'A glacier cave is a cave formed within the ice of a glacier .', 'label': 1}\n",
      "{'sentence': 'Glacier caves are often called ice caves , but this term is properly used to describe bedrock caves that contain year-round ice.', 'label': 0}\n"
     ]
    }
   ],
   "source": [
    "sentence_pairs = \n",
    "for d in question_id[\"Q1\"][\"lines\"]:\n",
    "    \n",
    "    if d['label'] == 0:\n",
    "        "
   ]
  },
  {
   "cell_type": "markdown",
   "metadata": {
    "id": "EzGuzHPE87Ya"
   },
   "source": [
    "# 3.Model Testing\n",
    "(You can add as many code blocks and text blocks as you need. However, YOU SHOULD NOT MODIFY the section title) "
   ]
  },
  {
   "cell_type": "code",
   "execution_count": null,
   "metadata": {
    "id": "6ZVeNYIH9IaL"
   },
   "outputs": [],
   "source": []
  },
  {
   "cell_type": "markdown",
   "metadata": {
    "id": "cTNGfO0h9I3W"
   },
   "source": [
    "###3.1. Input Embedding Ablation Study\n",
    "\n",
    "(You can add as many code blocks and text blocks as you need. However, YOU SHOULD NOT MODIFY the section title) \n",
    "\n"
   ]
  },
  {
   "cell_type": "code",
   "execution_count": null,
   "metadata": {
    "id": "XEVsyvrc9VHL"
   },
   "outputs": [],
   "source": []
  },
  {
   "cell_type": "markdown",
   "metadata": {
    "id": "uX7nFwMo9WBE"
   },
   "source": [
    "###3.2. Attention Ablation Study\n",
    "(You can add as many code blocks and text blocks as you need. However, YOU SHOULD NOT MODIFY the section title) "
   ]
  },
  {
   "cell_type": "code",
   "execution_count": null,
   "metadata": {
    "id": "CfRK-BeiNSVi"
   },
   "outputs": [],
   "source": []
  },
  {
   "cell_type": "code",
   "execution_count": null,
   "metadata": {
    "id": "E0VAR8GF9hSD"
   },
   "outputs": [],
   "source": []
  },
  {
   "cell_type": "markdown",
   "metadata": {
    "id": "llzGjUe6NDnB"
   },
   "source": [
    "###3.3. Hyper Parameter Testing\n",
    "(You can add as many code blocks and text blocks as you need. However, YOU SHOULD NOT MODIFY the section title) "
   ]
  },
  {
   "cell_type": "code",
   "execution_count": null,
   "metadata": {
    "id": "2Xj4PNyrNDBH"
   },
   "outputs": [],
   "source": []
  }
 ],
 "metadata": {
  "colab": {
   "provenance": [],
   "toc_visible": true
  },
  "kernelspec": {
   "display_name": "Python 3 (ipykernel)",
   "language": "python",
   "name": "python3"
  },
  "language_info": {
   "codemirror_mode": {
    "name": "ipython",
    "version": 3
   },
   "file_extension": ".py",
   "mimetype": "text/x-python",
   "name": "python",
   "nbconvert_exporter": "python",
   "pygments_lexer": "ipython3",
   "version": "3.11.3"
  }
 },
 "nbformat": 4,
 "nbformat_minor": 4
}
