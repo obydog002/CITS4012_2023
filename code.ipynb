{
 "cells": [
  {
   "cell_type": "markdown",
   "metadata": {
    "id": "32yCsRUo8H33"
   },
   "source": [
    "# 2023 CITS4012 Assignment\n",
    "*Make sure you change the file name with your student id.*"
   ]
  },
  {
   "cell_type": "markdown",
   "metadata": {
    "id": "XCybYoGz8YWQ"
   },
   "source": [
    "# Readme\n",
    "*If there is something to be noted for the marker, please mention here.* \n",
    "\n",
    "*If you are planning to implement a program with Object Oriented Programming style, please check the bottom of the this ipynb file*"
   ]
  },
  {
   "cell_type": "code",
   "execution_count": 191,
   "metadata": {
    "id": "qvff21Hv8zjk"
   },
   "outputs": [],
   "source": [
    "import sys\n",
    "sys.path.append('./src/QA')\n",
    "from importlib import reload\n",
    "from data_prep import DataPrep\n",
    "reload(data_prep)\n",
    "from data_prep import DataPrep"
   ]
  },
  {
   "cell_type": "code",
   "execution_count": 180,
   "metadata": {
    "id": "QIEqDDT78q39"
   },
   "outputs": [],
   "source": [
    "df = DataPrep.parse_tsv('WikiQA-train.tsv')\n",
    "question_id_list = df.loc[:, \"QuestionID\"]\n",
    "question_id_list = list(set(question_id_list))\n",
    "question_id_list.sort() # fix sorting or dont sort\n",
    "\n",
    "question_id = {}\n",
    "for i in df.index:\n",
    "    row = df.loc[i]\n",
    "    id = row[\"QuestionID\"]\n",
    "    if id not in question_id:\n",
    "        question_id[id] = {\"document\": []}\n",
    "        question_id[id][\"question\"] = row[\"Question\"]\n",
    "    \n",
    "    question_id[id][\"document\"].append((row[\"Sentence\"], row[\"Label\"]))"
   ]
  },
  {
   "cell_type": "code",
   "execution_count": 181,
   "metadata": {},
   "outputs": [
    {
     "data": {
      "text/plain": [
       "{'document': [('A partly submerged glacier cave on Perito Moreno Glacier .',\n",
       "   0),\n",
       "  ('The ice facade is approximately 60 m high', 0),\n",
       "  ('Ice formations in the Titlis glacier cave', 0),\n",
       "  ('A glacier cave is a cave formed within the ice of a glacier .', 1),\n",
       "  ('Glacier caves are often called ice caves , but this term is properly used to describe bedrock caves that contain year-round ice.',\n",
       "   0)],\n",
       " 'question': 'how are glacier caves formed?'}"
      ]
     },
     "execution_count": 181,
     "metadata": {},
     "output_type": "execute_result"
    }
   ],
   "source": [
    "question_id[\"Q1\"]"
   ]
  },
  {
   "cell_type": "code",
   "execution_count": 192,
   "metadata": {
    "id": "6ZVeNYIH9IaL"
   },
   "outputs": [
    {
     "data": {
      "text/plain": [
       "(['how', 'are', 'glacier', 'caves', 'formed?'],\n",
       " [[['A', 'OOA'],\n",
       "   ['partly', 'OOA'],\n",
       "   ['submerged', 'OOA'],\n",
       "   ['glacier', 'OOA'],\n",
       "   ['cave', 'OOA'],\n",
       "   ['on', 'OOA'],\n",
       "   ['Perito', 'OOA'],\n",
       "   ['Moreno', 'OOA'],\n",
       "   ['Glacier', 'OOA'],\n",
       "   ['.', 'OOA']],\n",
       "  [['The', 'OOA'],\n",
       "   ['ice', 'OOA'],\n",
       "   ['facade', 'OOA'],\n",
       "   ['is', 'OOA'],\n",
       "   ['approximately', 'OOA'],\n",
       "   ['60', 'OOA'],\n",
       "   ['m', 'OOA'],\n",
       "   ['high', 'OOA']],\n",
       "  [['Ice', 'OOA'],\n",
       "   ['formations', 'OOA'],\n",
       "   ['in', 'OOA'],\n",
       "   ['the', 'OOA'],\n",
       "   ['Titlis', 'OOA'],\n",
       "   ['glacier', 'OOA'],\n",
       "   ['cave', 'OOA']],\n",
       "  [['A', 'BOA'],\n",
       "   ['glacier', 'IOA'],\n",
       "   ['cave', 'IOA'],\n",
       "   ['is', 'IOA'],\n",
       "   ['a', 'IOA'],\n",
       "   ['cave', 'IOA'],\n",
       "   ['formed', 'IOA'],\n",
       "   ['within', 'IOA'],\n",
       "   ['the', 'IOA'],\n",
       "   ['ice', 'IOA'],\n",
       "   ['of', 'IOA'],\n",
       "   ['a', 'IOA'],\n",
       "   ['glacier', 'IOA'],\n",
       "   ['.', 'EOA']],\n",
       "  [['Glacier', 'OOA'],\n",
       "   ['caves', 'OOA'],\n",
       "   ['are', 'OOA'],\n",
       "   ['often', 'OOA'],\n",
       "   ['called', 'OOA'],\n",
       "   ['ice', 'OOA'],\n",
       "   ['caves', 'OOA'],\n",
       "   [',', 'OOA'],\n",
       "   ['but', 'OOA'],\n",
       "   ['this', 'OOA'],\n",
       "   ['term', 'OOA'],\n",
       "   ['is', 'OOA'],\n",
       "   ['properly', 'OOA'],\n",
       "   ['used', 'OOA'],\n",
       "   ['to', 'OOA'],\n",
       "   ['describe', 'OOA'],\n",
       "   ['bedrock', 'OOA'],\n",
       "   ['caves', 'OOA'],\n",
       "   ['that', 'OOA'],\n",
       "   ['contain', 'OOA'],\n",
       "   ['year-round', 'OOA'],\n",
       "   ['ice.', 'OOA']]])"
      ]
     },
     "execution_count": 192,
     "metadata": {},
     "output_type": "execute_result"
    }
   ],
   "source": [
    "toks = DataPrep.tokenize_question_and_doc(question_id[\"Q1\"])\n",
    "toks"
   ]
  },
  {
   "cell_type": "markdown",
   "metadata": {
    "id": "6po98qVA8bJD"
   },
   "source": [
    "# 1.DataSet Processing\n",
    "(You can add as many code blocks and text blocks as you need. However, YOU SHOULD NOT MODIFY the section title) "
   ]
  },
  {
   "cell_type": "markdown",
   "metadata": {
    "id": "1FA2ao2l8hOg"
   },
   "source": [
    "# 2.QA Model Implementation\n",
    "(You can add as many code blocks and text blocks as you need. However, YOU SHOULD NOT MODIFY the section title) "
   ]
  },
  {
   "cell_type": "markdown",
   "metadata": {
    "id": "EzGuzHPE87Ya"
   },
   "source": [
    "# 3.Model Testing\n",
    "(You can add as many code blocks and text blocks as you need. However, YOU SHOULD NOT MODIFY the section title) "
   ]
  },
  {
   "cell_type": "markdown",
   "metadata": {
    "id": "cTNGfO0h9I3W"
   },
   "source": [
    "###3.1. Input Embedding Ablation Study\n",
    "\n",
    "(You can add as many code blocks and text blocks as you need. However, YOU SHOULD NOT MODIFY the section title) \n",
    "\n"
   ]
  },
  {
   "cell_type": "code",
   "execution_count": null,
   "metadata": {
    "id": "XEVsyvrc9VHL"
   },
   "outputs": [],
   "source": []
  },
  {
   "cell_type": "markdown",
   "metadata": {
    "id": "uX7nFwMo9WBE"
   },
   "source": [
    "###3.2. Attention Ablation Study\n",
    "(You can add as many code blocks and text blocks as you need. However, YOU SHOULD NOT MODIFY the section title) "
   ]
  },
  {
   "cell_type": "code",
   "execution_count": null,
   "metadata": {
    "id": "CfRK-BeiNSVi"
   },
   "outputs": [],
   "source": []
  },
  {
   "cell_type": "code",
   "execution_count": null,
   "metadata": {
    "id": "E0VAR8GF9hSD"
   },
   "outputs": [],
   "source": []
  },
  {
   "cell_type": "markdown",
   "metadata": {
    "id": "llzGjUe6NDnB"
   },
   "source": [
    "###3.3. Hyper Parameter Testing\n",
    "(You can add as many code blocks and text blocks as you need. However, YOU SHOULD NOT MODIFY the section title) "
   ]
  },
  {
   "cell_type": "code",
   "execution_count": null,
   "metadata": {
    "id": "2Xj4PNyrNDBH"
   },
   "outputs": [],
   "source": []
  }
 ],
 "metadata": {
  "colab": {
   "provenance": [],
   "toc_visible": true
  },
  "kernelspec": {
   "display_name": "Python 3 (ipykernel)",
   "language": "python",
   "name": "python3"
  },
  "language_info": {
   "codemirror_mode": {
    "name": "ipython",
    "version": 3
   },
   "file_extension": ".py",
   "mimetype": "text/x-python",
   "name": "python",
   "nbconvert_exporter": "python",
   "pygments_lexer": "ipython3",
   "version": "3.11.3"
  }
 },
 "nbformat": 4,
 "nbformat_minor": 4
}
