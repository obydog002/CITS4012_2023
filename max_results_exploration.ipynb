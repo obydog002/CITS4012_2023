{
 "cells": [
  {
   "cell_type": "code",
   "execution_count": 2,
   "id": "0a535963-0d1f-4542-89bf-6f132948f19c",
   "metadata": {},
   "outputs": [],
   "source": [
    "# when not using colab\n",
    "import sys\n",
    "sys.path.append('src/QA')\n",
    "import reload_recursive"
   ]
  },
  {
   "cell_type": "code",
   "execution_count": 3,
   "id": "e76271aa-3e6e-4eaa-9227-0d4937823dee",
   "metadata": {},
   "outputs": [],
   "source": [
    "%reload word_embed\n",
    "from word_embed import WordEmbed"
   ]
  },
  {
   "cell_type": "code",
   "execution_count": 190,
   "id": "44f7570d-49ff-4eff-9175-d04aa47fb506",
   "metadata": {},
   "outputs": [],
   "source": [
    "%reload data_prep\n",
    "from data_prep import DataPrep"
   ]
  },
  {
   "cell_type": "code",
   "execution_count": 5,
   "id": "d3e817a1-1e73-4799-a724-3c688a1c2686",
   "metadata": {},
   "outputs": [],
   "source": [
    "import pickle"
   ]
  },
  {
   "cell_type": "code",
   "execution_count": 227,
   "id": "84d87431-fe81-4286-b076-9dd61d2aff6f",
   "metadata": {},
   "outputs": [],
   "source": [
    "results = pickle.load(open(\"models/results.pkl\", \"rb\"))"
   ]
  },
  {
   "cell_type": "code",
   "execution_count": 228,
   "id": "6677f8f2-c882-4598-9f2a-04da2573ea90",
   "metadata": {},
   "outputs": [],
   "source": [
    "# find the best model on the results given\n",
    "# chooses the highest seen test f1 score\n",
    "def get_best_model(results):\n",
    "    best_f1_seen = 0.0\n",
    "    best_model = None\n",
    "    best_model_it = None\n",
    "    for key, value in results.items():\n",
    "        for it, model_results in value.items():\n",
    "            model_f1 = model_results[\"test_report\"][\"1\"][\"f1-score\"]\n",
    "            if model_f1 > best_f1_seen:\n",
    "                best_f1_seen = model_f1\n",
    "                best_model = {key: value}\n",
    "                best_model_it = it\n",
    "    \n",
    "    return best_f1_seen, best_model, best_model_it"
   ]
  },
  {
   "cell_type": "code",
   "execution_count": 229,
   "id": "a9b9b8d0-497e-4d52-b85b-3be7a947c093",
   "metadata": {},
   "outputs": [],
   "source": [
    "best_f1_seen, best_model, best_model_it = get_best_model(results)"
   ]
  },
  {
   "cell_type": "code",
   "execution_count": 246,
   "id": "09350ad1-62b8-42a9-ace2-74eefde2af5a",
   "metadata": {},
   "outputs": [
    {
     "data": {
      "text/plain": [
       "{frozenset({('answer_type', 'Out_And_In'),\n",
       "            ('attention_type', 'Dot Product'),\n",
       "            ('batch', 128),\n",
       "            ('befaft', False),\n",
       "            ('bidirectional', False),\n",
       "            ('doc_cut_size', 256),\n",
       "            ('doc_hidden_layers', 2),\n",
       "            ('doc_with_ner', True),\n",
       "            ('doc_with_pos', False),\n",
       "            ('doc_with_tfidf', False),\n",
       "            ('doc_with_wm', False),\n",
       "            ('hidden_size', 100),\n",
       "            ('hidden_type', 'GRU'),\n",
       "            ('iters_inc', (1, 4, 5, 10, 20, 40)),\n",
       "            ('learning_rate', 0.1),\n",
       "            ('q_cut_size', 'Max'),\n",
       "            ('q_with_ner', False),\n",
       "            ('q_with_pos', True)}): {1: {'train_loss': tensor(0.6958),\n",
       "   'train_report': {'0': {'precision': 0.9996054541086485,\n",
       "     'recall': 0.9447349815494068,\n",
       "     'f1-score': 0.9713959787339447,\n",
       "     'support': 541717},\n",
       "    '1': {'precision': 0.0011010643622168096,\n",
       "     'recall': 0.14042553191489363,\n",
       "     'f1-score': 0.002184996358339403,\n",
       "     'support': 235},\n",
       "    'accuracy': 0.9443862187057156,\n",
       "    'macro avg': {'precision': 0.5003532592354327,\n",
       "     'recall': 0.5425802567321503,\n",
       "     'f1-score': 0.486790487546142,\n",
       "     'support': 541952},\n",
       "    'weighted avg': {'precision': 0.9991724848944183,\n",
       "     'recall': 0.9443862187057156,\n",
       "     'f1-score': 0.9709757116607383,\n",
       "     'support': 541952}},\n",
       "   'test_loss': tensor(0.6936),\n",
       "   'test_report': {'0': {'precision': 0.9994702038733984,\n",
       "     'recall': 0.9479522078437698,\n",
       "     'f1-score': 0.973029765638183,\n",
       "     'support': 161198},\n",
       "    '1': {'precision': 0.00011917530687641521,\n",
       "     'recall': 0.012195121951219513,\n",
       "     'f1-score': 0.00023604390416617492,\n",
       "     'support': 82},\n",
       "    'accuracy': 0.9474764384920635,\n",
       "    'macro avg': {'precision': 0.4997946895901374,\n",
       "     'recall': 0.48007366489749465,\n",
       "     'f1-score': 0.4866329047711746,\n",
       "     'support': 161280},\n",
       "    'weighted avg': {'precision': 0.99896210129191,\n",
       "     'recall': 0.9474764384920635,\n",
       "     'f1-score': 0.9725351656556546,\n",
       "     'support': 161280}}},\n",
       "  5: {'train_loss': tensor(0.5815),\n",
       "   'train_report': {'0': {'precision': 0.3279379508223938,\n",
       "     'recall': 0.9939556829012722,\n",
       "     'f1-score': 0.49316492877074464,\n",
       "     'support': 168919},\n",
       "    '1': {'precision': 0.9659337359447466,\n",
       "     'recall': 0.07760707497728082,\n",
       "     'f1-score': 0.14367103056049071,\n",
       "     'support': 373033},\n",
       "    'accuracy': 0.3632203589985829,\n",
       "    'macro avg': {'precision': 0.6469358433835702,\n",
       "     'recall': 0.5357813789392766,\n",
       "     'f1-score': 0.3184179796656177,\n",
       "     'support': 541952},\n",
       "    'weighted avg': {'precision': 0.7670792063423414,\n",
       "     'recall': 0.3632203589985829,\n",
       "     'f1-score': 0.252603481758711,\n",
       "     'support': 541952}},\n",
       "   'test_loss': tensor(0.5820),\n",
       "   'test_report': {'0': {'precision': 0.32781952920092355,\n",
       "     'recall': 0.9950959953938094,\n",
       "     'f1-score': 0.4931711732986972,\n",
       "     'support': 50367},\n",
       "    '1': {'precision': 0.9705636992015254,\n",
       "     'recall': 0.0734269201987143,\n",
       "     'f1-score': 0.1365251793737008,\n",
       "     'support': 110913},\n",
       "    'accuracy': 0.36125992063492063,\n",
       "    'macro avg': {'precision': 0.6491916142012245,\n",
       "     'recall': 0.5342614577962619,\n",
       "     'f1-score': 0.314848176336199,\n",
       "     'support': 161280},\n",
       "    'weighted avg': {'precision': 0.7698376599504074,\n",
       "     'recall': 0.36125992063492063,\n",
       "     'f1-score': 0.24790407803454087,\n",
       "     'support': 161280}}},\n",
       "  10: {'train_loss': tensor(0.5716),\n",
       "   'train_report': {'0': {'precision': 0.32883056207163935,\n",
       "     'recall': 0.9961421716260274,\n",
       "     'f1-score': 0.49444336757769597,\n",
       "     'support': 169007},\n",
       "    '1': {'precision': 0.9782456374495345,\n",
       "     'recall': 0.07861480915416483,\n",
       "     'f1-score': 0.1455340567264641,\n",
       "     'support': 372945},\n",
       "    'accuracy': 0.3647444792158715,\n",
       "    'macro avg': {'precision': 0.653538099760587,\n",
       "     'recall': 0.5373784903900961,\n",
       "     'f1-score': 0.31998871215208,\n",
       "     'support': 541952},\n",
       "    'weighted avg': {'precision': 0.7757264223817943,\n",
       "     'recall': 0.3647444792158715,\n",
       "     'f1-score': 0.2543409545680334,\n",
       "     'support': 541952}},\n",
       "   'test_loss': tensor(0.5745),\n",
       "   'test_report': {'0': {'precision': 0.32653755338840595,\n",
       "     'recall': 0.9968053669834678,\n",
       "     'f1-score': 0.49192749774600564,\n",
       "     'support': 50084},\n",
       "    '1': {'precision': 0.9809319508997736,\n",
       "     'recall': 0.07402244685060613,\n",
       "     'f1-score': 0.13765710319683577,\n",
       "     'support': 111196},\n",
       "    'accuracy': 0.3605840773809524,\n",
       "    'macro avg': {'precision': 0.6537347521440897,\n",
       "     'recall': 0.5354139069170369,\n",
       "     'f1-score': 0.3147923004714207,\n",
       "     'support': 161280},\n",
       "    'weighted avg': {'precision': 0.7777158732400555,\n",
       "     'recall': 0.3605840773809524,\n",
       "     'f1-score': 0.24767247051206784,\n",
       "     'support': 161280}}},\n",
       "  20: {'train_loss': tensor(0.5856),\n",
       "   'train_report': {'0': {'precision': 0.8199913668671298,\n",
       "     'recall': 0.9606403353614587,\n",
       "     'f1-score': 0.884761043706968,\n",
       "     'support': 437021},\n",
       "    '1': {'precision': 0.42607854259117145,\n",
       "     'recall': 0.12169902126159095,\n",
       "     'f1-score': 0.18932261938295944,\n",
       "     'support': 104931},\n",
       "    'accuracy': 0.7982072213037317,\n",
       "    'macro avg': {'precision': 0.6230349547291506,\n",
       "     'recall': 0.5411696783115248,\n",
       "     'f1-score': 0.5370418315449637,\n",
       "     'support': 541952},\n",
       "    'weighted avg': {'precision': 0.7437232350692942,\n",
       "     'recall': 0.7982072213037317,\n",
       "     'f1-score': 0.7501124967826232,\n",
       "     'support': 541952}},\n",
       "   'test_loss': tensor(0.5796),\n",
       "   'test_report': {'0': {'precision': 0.8279274506341202,\n",
       "     'recall': 0.9635457105884144,\n",
       "     'f1-score': 0.8906032878466469,\n",
       "     'support': 131370},\n",
       "    '1': {'precision': 0.4292694553688476,\n",
       "     'recall': 0.12042795051822133,\n",
       "     'f1-score': 0.18808908383593118,\n",
       "     'support': 29910},\n",
       "    'accuracy': 0.807186259920635,\n",
       "    'macro avg': {'precision': 0.6285984530014839,\n",
       "     'recall': 0.5419868305533179,\n",
       "     'f1-score': 0.539346185841289,\n",
       "     'support': 161280},\n",
       "    'weighted avg': {'precision': 0.753994782985408,\n",
       "     'recall': 0.807186259920635,\n",
       "     'f1-score': 0.7603193106519512,\n",
       "     'support': 161280}}},\n",
       "  40: {'train_loss': tensor(0.5466),\n",
       "   'train_report': {'0': {'precision': 0.3883659745185857,\n",
       "     'recall': 0.9954342471514108,\n",
       "     'f1-score': 0.5587407566644046,\n",
       "     'support': 199748},\n",
       "    '1': {'precision': 0.9695705848987355,\n",
       "     'recall': 0.08491718390199998,\n",
       "     'f1-score': 0.1561577215019816,\n",
       "     'support': 342204},\n",
       "    'accuracy': 0.42050772024090693,\n",
       "    'macro avg': {'precision': 0.6789682797086606,\n",
       "     'recall': 0.5401757155267054,\n",
       "     'f1-score': 0.3574492390831931,\n",
       "     'support': 541952},\n",
       "    'weighted avg': {'precision': 0.7553551958712678,\n",
       "     'recall': 0.42050772024090693,\n",
       "     'f1-score': 0.30453830891124234,\n",
       "     'support': 541952}},\n",
       "   'test_loss': tensor(0.5552),\n",
       "   'test_report': {'0': {'precision': 0.38270902419402314,\n",
       "     'recall': 0.9937162460514248,\n",
       "     'f1-score': 0.552596908925207,\n",
       "     'support': 58882},\n",
       "    '1': {'precision': 0.9559051364557264,\n",
       "     'recall': 0.07833160803921951,\n",
       "     'f1-score': 0.14479776873155278,\n",
       "     'support': 102398},\n",
       "    'accuracy': 0.412531001984127,\n",
       "    'macro avg': {'precision': 0.6693070803248747,\n",
       "     'recall': 0.5360239270453222,\n",
       "     'f1-score': 0.3486973388283799,\n",
       "     'support': 161280},\n",
       "    'weighted avg': {'precision': 0.7466359556385537,\n",
       "     'recall': 0.412531001984127,\n",
       "     'f1-score': 0.29368187694635156,\n",
       "     'support': 161280}}},\n",
       "  80: {'train_loss': tensor(0.5545),\n",
       "   'train_report': {'0': {'precision': 0.8864528175850276,\n",
       "     'recall': 0.9637474809892996,\n",
       "     'f1-score': 0.9234856038254147,\n",
       "     'support': 470919},\n",
       "    '1': {'precision': 0.4303827032798372,\n",
       "     'recall': 0.1815916545830811,\n",
       "     'f1-score': 0.25541562710387705,\n",
       "     'support': 71033},\n",
       "    'accuracy': 0.861231252952291,\n",
       "    'macro avg': {'precision': 0.6584177604324324,\n",
       "     'recall': 0.5726695677861904,\n",
       "     'f1-score': 0.5894506154646458,\n",
       "     'support': 541952},\n",
       "    'weighted avg': {'precision': 0.8266762535545589,\n",
       "     'recall': 0.861231252952291,\n",
       "     'f1-score': 0.8359224715619282,\n",
       "     'support': 541952}},\n",
       "   'test_loss': tensor(0.5677),\n",
       "   'test_report': {'0': {'precision': 0.8786897683940637,\n",
       "     'recall': 0.9646293477324296,\n",
       "     'f1-score': 0.9196562122420479,\n",
       "     'support': 139268},\n",
       "    '1': {'precision': 0.4129424383267787,\n",
       "     'recall': 0.15741413774304924,\n",
       "     'f1-score': 0.2279380324310101,\n",
       "     'support': 22012},\n",
       "    'accuracy': 0.8544580853174604,\n",
       "    'macro avg': {'precision': 0.6458161033604212,\n",
       "     'recall': 0.5610217427377394,\n",
       "     'f1-score': 0.573797122336529,\n",
       "     'support': 161280},\n",
       "    'weighted avg': {'precision': 0.8151231127055648,\n",
       "     'recall': 0.8544580853174604,\n",
       "     'f1-score': 0.8252483465798419,\n",
       "     'support': 161280}}}}}"
      ]
     },
     "execution_count": 246,
     "metadata": {},
     "output_type": "execute_result"
    }
   ],
   "source": [
    "best_model"
   ]
  },
  {
   "cell_type": "code",
   "execution_count": 232,
   "id": "ddb41ab3-edf7-4117-9c0b-aa9a6474d85e",
   "metadata": {},
   "outputs": [],
   "source": [
    "def get_keys_from_model(model):\n",
    "    return dict(list(model.items())[0][0])"
   ]
  },
  {
   "cell_type": "code",
   "execution_count": 233,
   "id": "8c7ace2e-fa4f-422a-91f1-2027e3263742",
   "metadata": {},
   "outputs": [],
   "source": [
    "best_model_params = get_keys_from_model(best_model)"
   ]
  },
  {
   "cell_type": "code",
   "execution_count": 234,
   "id": "b3a17de3-ef6f-47d3-aafb-9f406d1525cd",
   "metadata": {},
   "outputs": [],
   "source": [
    "def remove_param(param, name):\n",
    "    cut_param = dict(param)\n",
    "    del cut_param[name]\n",
    "    return cut_param"
   ]
  },
  {
   "cell_type": "code",
   "execution_count": 235,
   "id": "ea9e6cdf-672e-4416-9d8e-0c06fb19b0a6",
   "metadata": {},
   "outputs": [],
   "source": [
    "bm_without_hidden_layers = remove_param(best_model_dict, \"doc_hidden_layers\")"
   ]
  },
  {
   "cell_type": "code",
   "execution_count": 236,
   "id": "abd19e30-eb03-483b-b59d-73b27159f564",
   "metadata": {},
   "outputs": [],
   "source": [
    "%reload model\n",
    "import model\n",
    "from model.results_helpers import ResultsHelper"
   ]
  },
  {
   "cell_type": "code",
   "execution_count": 237,
   "id": "db15729c-b4b4-4d5b-a717-100e1b7440dc",
   "metadata": {},
   "outputs": [
    {
     "data": {
      "image/png": "[encoded data removed]",
      "text/plain": [
       "<Figure size 800x400 with 1 Axes>"
      ]
     },
     "metadata": {},
     "output_type": "display_data"
    }
   ],
   "source": [
    "%matplotlib inline\n",
    "import matplotlib.pyplot as plt\n",
    "plt.figure(figsize=(8,4))\n",
    "ResultsHelper.plot_metrics_for_one_it(ResultsHelper.get_matching_models(bm_without_hidden_layers, results), var_X = \"doc_hidden_layers\", var_X_pretty_name = \"Hidden Layers\", it=40, train=False)\n",
    "plt.legend()\n",
    "plt.show()"
   ]
  },
  {
   "cell_type": "code",
   "execution_count": 238,
   "id": "3b8add1a-5158-45cf-a206-63d981abd0ab",
   "metadata": {},
   "outputs": [
    {
     "data": {
      "image/png": "[encoded data removed]",
      "text/plain": [
       "<Figure size 800x400 with 1 Axes>"
      ]
     },
     "metadata": {},
     "output_type": "display_data"
    }
   ],
   "source": [
    "plt.figure(figsize=(8,4))\n",
    "ResultsHelper.plot_metrics_over_its(best_model, train=False)\n",
    "plt.legend()\n",
    "plt.show()"
   ]
  },
  {
   "cell_type": "markdown",
   "id": "61f56326-3b16-454f-9df0-c0d3897bffa1",
   "metadata": {},
   "source": [
    "## Best RNN models with 1 hidden layer"
   ]
  },
  {
   "cell_type": "code",
   "execution_count": 178,
   "id": "efc06d4b-05fc-4373-8096-60a4ffcbf882",
   "metadata": {},
   "outputs": [],
   "source": [
    "best_rnn_1_layer_model = get_best_model(ResultsHelper.get_matching_models({\"hidden_type\": \"RNN\", \"doc_hidden_layers\": 1}, results))[1]"
   ]
  },
  {
   "cell_type": "code",
   "execution_count": 179,
   "id": "1f8bc773-957e-41c4-bb3b-b664d666ec9d",
   "metadata": {},
   "outputs": [],
   "source": [
    "best_rnn_1_layer_model_params = get_keys_from_model(best_rnn_1_layer_model)\n",
    "rnn_1_layer_vary_attention_type = remove_param(rnn_1_layer_vary_attention_type, \"attention_type\")"
   ]
  },
  {
   "cell_type": "code",
   "execution_count": 156,
   "id": "16d23654-2722-44f0-9444-e4685c39dc4f",
   "metadata": {},
   "outputs": [
    {
     "data": {
      "image/png": "[encoded data removed]",
      "text/plain": [
       "<Figure size 800x400 with 1 Axes>"
      ]
     },
     "metadata": {},
     "output_type": "display_data"
    }
   ],
   "source": [
    "bm_without_attention_type = remove_param(best_model_params, \"attention_type\")\n",
    "plt.figure(figsize=(8,4))\n",
    "ResultsHelper.plot_metrics_for_one_it(ResultsHelper.get_matching_models(bm_without_attention_type, results), var_X = \"attention_type\", var_X_pretty_name = \"Attention Type\", it=40, train=False)\n",
    "plt.legend()\n",
    "plt.show()"
   ]
  },
  {
   "cell_type": "markdown",
   "id": "5572dd26-8c50-4f08-9960-d95f3dbe3679",
   "metadata": {},
   "source": [
    "## Examine doc lengths"
   ]
  },
  {
   "cell_type": "code",
   "execution_count": 191,
   "id": "f2e52ccf-8ad0-4eff-902a-e7bf117b4156",
   "metadata": {},
   "outputs": [],
   "source": [
    "train_q_inputs, train_doc_inputs, train_doc_targets = DataPrep.tokenize_json(DataPrep.convert_pd_to_json(DataPrep.parse_tsv('WikiQA-train.tsv')))\n",
    "test_q_inputs, test_doc_inputs, test_doc_targets = DataPrep.tokenize_json(DataPrep.convert_pd_to_json(DataPrep.parse_tsv('WikiQA-test.tsv')))"
   ]
  },
  {
   "cell_type": "code",
   "execution_count": 209,
   "id": "999ba669-1999-4b3d-b0a9-ad6eed62256f",
   "metadata": {},
   "outputs": [],
   "source": [
    "train_doc_full = [[tok for sentence in doc for tok in sentence] for doc in train_doc_inputs]\n",
    "test_doc_full = [[tok for sentence in doc for tok in sentence] for doc in test_doc_inputs]"
   ]
  },
  {
   "cell_type": "code",
   "execution_count": 213,
   "id": "da97d584-a663-469e-8239-c93b620418df",
   "metadata": {},
   "outputs": [],
   "source": [
    "train_doc_lens = [len(doc) for doc in train_doc_full]\n",
    "test_doc_lens = [len(doc) for doc in test_doc_full]"
   ]
  },
  {
   "cell_type": "code",
   "execution_count": 217,
   "id": "77d4c537-a675-4d26-8594-6700915f4209",
   "metadata": {},
   "outputs": [
    {
     "data": {
      "image/png": "[encoded data removed]",
      "text/plain": [
       "<Figure size 800x400 with 1 Axes>"
      ]
     },
     "metadata": {},
     "output_type": "display_data"
    }
   ],
   "source": [
    "plt.figure(figsize=(8,4))\n",
    "plt.hist(train_doc_lens)\n",
    "plt.show()"
   ]
  },
  {
   "cell_type": "code",
   "execution_count": null,
   "id": "0237ed76-24fc-4bbd-b7c3-3389f17f2828",
   "metadata": {},
   "outputs": [],
   "source": []
  },
  {
   "cell_type": "code",
   "execution_count": 239,
   "id": "08624f93-4f2e-45d0-8e9c-7ea34a349422",
   "metadata": {},
   "outputs": [],
   "source": [
    "models_large_its = ResultsHelper.get_matching_models({'iters_inc': (1, 4, 5, 10, 20, 40, 80)}, results)"
   ]
  },
  {
   "cell_type": "code",
   "execution_count": null,
   "id": "8ac621a2-8a79-4a9b-9b03-97074184a403",
   "metadata": {},
   "outputs": [],
   "source": []
  }
 ],
 "metadata": {
  "kernelspec": {
   "display_name": "Python 3 (ipykernel)",
   "language": "python",
   "name": "python3"
  },
  "language_info": {
   "codemirror_mode": {
    "name": "ipython",
    "version": 3
   },
   "file_extension": ".py",
   "mimetype": "text/x-python",
   "name": "python",
   "nbconvert_exporter": "python",
   "pygments_lexer": "ipython3",
   "version": "3.10.9"
  }
 },
 "nbformat": 4,
 "nbformat_minor": 5
}
