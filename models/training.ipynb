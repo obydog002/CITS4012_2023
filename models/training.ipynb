{
 "cells": [
  {
   "cell_type": "code",
   "execution_count": 38,
   "id": "af1d613a-d52e-4d9d-bb2c-e03e5078358e",
   "metadata": {},
   "outputs": [],
   "source": [
    "# when not using colab\n",
    "import sys\n",
    "sys.path.append('../src/QA')\n",
    "import reload_recursive\n",
    "%reload data_prep\n",
    "from data_prep import DataPrep\n",
    "%reload model\n",
    "from model import QA_RNN\n",
    "%reload word_embed\n",
    "from word_embed import WordEmbed\n",
    "%reload embed_doc\n",
    "from embed_doc import EmbedAndConcat"
   ]
  },
  {
   "cell_type": "markdown",
   "id": "c5c3d4da-a929-47d1-a306-8459634976d1",
   "metadata": {},
   "source": [
    "All these functions should be moved to their own module, im just doing it like this as a rough draft."
   ]
  },
  {
   "cell_type": "code",
   "execution_count": 14,
   "id": "32108bfc-758a-477b-ba7a-7b1633980377",
   "metadata": {},
   "outputs": [],
   "source": [
    "def train(input_question_tensor, input_document_tensor, target_tensor, question_model, document_model, question_optimizer, document_optimizer, criterion):\n",
    "    input_question_length = input_question_tensor.size(0)\n",
    "    input_document_length = input_document_tensor.size(0)\n",
    "    target_length = target_tensor.size(0)\n",
    "\n",
    "    loss = 0    \n",
    "    question_optimizer.zero_grad()\n",
    "    document_optimizer.zero_grad()\n",
    "\n",
    "    # get output from question model\n",
    "    question_output = question_model(input_question_tensor)\n",
    "    \n",
    "    # predictions from the document model with output from question for attention\n",
    "    document_output = document_model(input_document_tensor, question_output)\n",
    "\n",
    "    loss.backward()\n",
    "\n",
    "    encoder_optimizer.step()\n",
    "    decoder_optimizer.step()\n",
    "\n",
    "    return loss.item() / target_length"
   ]
  },
  {
   "cell_type": "code",
   "execution_count": 15,
   "id": "3e684cb0-505a-4a1e-a353-bc4c06fa09f7",
   "metadata": {},
   "outputs": [],
   "source": [
    "import time\n",
    "import math\n",
    "\n",
    "# Helper functions for training\n",
    "def asMinutes(s):\n",
    "    m = math.floor(s / 60)\n",
    "    s -= m * 60\n",
    "    return '%dm %ds' % (m, s)\n",
    "\n",
    "def timeSince(since, percent):\n",
    "    now = time.time()\n",
    "    s = now - since\n",
    "    es = s / (percent)\n",
    "    rs = es - s\n",
    "    return '%s (- %s)' % (asMinutes(s), asMinutes(rs))"
   ]
  },
  {
   "cell_type": "code",
   "execution_count": 16,
   "id": "580cf374-e040-4703-9b47-945256242b23",
   "metadata": {},
   "outputs": [],
   "source": [
    "import random\n",
    "def trainIters(encoder, decoder, n_iters, print_every=1000, plot_every=100, learning_rate=0.01):\n",
    "    start = time.time()\n",
    "    plot_losses = []\n",
    "    print_loss_total = 0  # Reset every print_every\n",
    "    plot_loss_total = 0  # Reset every plot_every\n",
    "\n",
    "    encoder_optimizer = optim.SGD(encoder.parameters(), lr=learning_rate)\n",
    "    decoder_optimizer = optim.SGD(decoder.parameters(), lr=learning_rate)\n",
    "    \n",
    "    criterion = nn.NLLLoss()\n",
    "\n",
    "    for iter in range(1, n_iters + 1):\n",
    "        random_choice_ix = random.choice(range(n_data)) # Get a random index within the scope of input data\n",
    "        input_index_r = [[ind] for ind in input_index[random_choice_ix]] \n",
    "        target_index_r = [[ind] for ind in target_index[random_choice_ix]]\n",
    "        \n",
    "        input_tensor = torch.LongTensor(input_index_r).to(device) \n",
    "        target_tensor = torch.LongTensor(target_index_r).to(device) \n",
    "\n",
    "        loss = train(input_tensor, target_tensor, encoder, decoder, encoder_optimizer, decoder_optimizer, criterion)\n",
    "        print_loss_total += loss\n",
    "        plot_loss_total += loss\n",
    "\n",
    "        if iter % print_every == 0:\n",
    "            print_loss_avg = print_loss_total / print_every\n",
    "            print_loss_total = 0\n",
    "            print('%s (%d %d%%) %.4f' % (timeSince(start, iter / n_iters),\n",
    "                                         iter, iter / n_iters * 100, print_loss_avg))\n",
    "\n",
    "        if iter % plot_every == 0:\n",
    "            plot_loss_avg = plot_loss_total / plot_every\n",
    "            plot_losses.append(plot_loss_avg)\n",
    "            plot_loss_total = 0\n"
   ]
  },
  {
   "cell_type": "code",
   "execution_count": 17,
   "id": "066e7459-7884-4f79-8a1a-0443fa07d48f",
   "metadata": {},
   "outputs": [
    {
     "data": {
      "text/plain": [
       "device(type='cpu')"
      ]
     },
     "execution_count": 17,
     "metadata": {},
     "output_type": "execute_result"
    }
   ],
   "source": [
    "import torch\n",
    "import torch\n",
    "import torch.nn as nn\n",
    "from torch import optim\n",
    "import torch.nn.functional as F\n",
    "\n",
    "device = torch.device(\"cuda\" if torch.cuda.is_available() else \"cpu\")\n",
    "device"
   ]
  },
  {
   "cell_type": "code",
   "execution_count": 31,
   "id": "8e2f1e62-029c-456a-943a-e8b5504843ea",
   "metadata": {},
   "outputs": [],
   "source": [
    "df = DataPrep.parse_tsv('../WikiQA-train.tsv')\n",
    "question_doc_raw_train = DataPrep.convert_pd_to_json(df)"
   ]
  },
  {
   "cell_type": "markdown",
   "id": "e832c1c9-9fd5-45d0-a4de-eefc5ffb5a29",
   "metadata": {},
   "source": [
    "This could be its own function in the layer somewhere"
   ]
  },
  {
   "cell_type": "code",
   "execution_count": 37,
   "id": "4f0a5c92-21ef-4015-8b91-bf1f8d6443f3",
   "metadata": {},
   "outputs": [
    {
     "ename": "IndexError",
     "evalue": "string index out of range",
     "output_type": "error",
     "traceback": [
      "\u001b[0;31m---------------------------------------------------------------------------\u001b[0m",
      "\u001b[0;31mIndexError\u001b[0m                                Traceback (most recent call last)",
      "Cell \u001b[0;32mIn[37], line 6\u001b[0m\n\u001b[1;32m      4\u001b[0m \u001b[38;5;28;01mfor\u001b[39;00m key \u001b[38;5;129;01min\u001b[39;00m question_doc_raw_train\u001b[38;5;241m.\u001b[39mkeys():\n\u001b[1;32m      5\u001b[0m     toks \u001b[38;5;241m=\u001b[39m DataPrep\u001b[38;5;241m.\u001b[39mtokenize_question_and_doc(question_doc_raw_train[key])\n\u001b[0;32m----> 6\u001b[0m     question_embeds \u001b[38;5;241m=\u001b[39m \u001b[43mEmbedAndConcat\u001b[49m\u001b[38;5;241;43m.\u001b[39;49m\u001b[43mq_concat\u001b[49m\u001b[43m(\u001b[49m\u001b[43mtoks\u001b[49m\u001b[43m[\u001b[49m\u001b[38;5;241;43m0\u001b[39;49m\u001b[43m]\u001b[49m\u001b[43m)\u001b[49m\n\u001b[1;32m      7\u001b[0m     doc_embeds \u001b[38;5;241m=\u001b[39m EmbedAndConcat\u001b[38;5;241m.\u001b[39mdoc_concat(toks[\u001b[38;5;241m1\u001b[39m])\n",
      "File \u001b[0;32m~/Documents/school/CITS4012/project/models/../src/QA/embed_doc.py:36\u001b[0m, in \u001b[0;36mEmbedAndConcat.q_concat\u001b[0;34m(question, with_ner, question_ner_tags)\u001b[0m\n\u001b[1;32m     35\u001b[0m \u001b[38;5;28;01mdef\u001b[39;00m \u001b[38;5;21mq_concat\u001b[39m(question, with_ner \u001b[38;5;241m=\u001b[39m \u001b[38;5;28;01mFalse\u001b[39;00m, question_ner_tags \u001b[38;5;241m=\u001b[39m \u001b[38;5;28;01mNone\u001b[39;00m):\n\u001b[0;32m---> 36\u001b[0m     word_embeds \u001b[38;5;241m=\u001b[39m \u001b[43mWordEmbed\u001b[49m\u001b[38;5;241;43m.\u001b[39;49m\u001b[43mglove_embed_sent\u001b[49m\u001b[43m(\u001b[49m\u001b[43mquestion\u001b[49m\u001b[43m)\u001b[49m\n\u001b[1;32m     37\u001b[0m     pos_indices \u001b[38;5;241m=\u001b[39m FeatExt\u001b[38;5;241m.\u001b[39mquestion_pos(question)\n\u001b[1;32m     38\u001b[0m     num_words \u001b[38;5;241m=\u001b[39m \u001b[38;5;28mlen\u001b[39m(question)\n",
      "File \u001b[0;32m~/Documents/school/CITS4012/project/models/../src/QA/word_embed.py:17\u001b[0m, in \u001b[0;36mWordEmbed.glove_embed_sent\u001b[0;34m(sentence)\u001b[0m\n\u001b[1;32m     15\u001b[0m     if lowered in glo100model:\n\u001b[1;32m     16\u001b[0m         embeds.append(glo100model[lowered])\n\u001b[0;32m---> 17\u001b[0m     else:\n\u001b[1;32m     18\u001b[0m         embeds.append(glo100model[\"unknown\"])\n\u001b[1;32m     19\u001b[0m return embeds\n",
      "\u001b[0;31mIndexError\u001b[0m: string index out of range"
     ]
    }
   ],
   "source": [
    "train_question_inputs = []\n",
    "train_doc_inputs = []\n",
    "train_doc_targets = []\n",
    "for key in question_doc_raw_train.keys():\n",
    "    toks = DataPrep.tokenize_question_and_doc(question_doc_raw_train[key])\n",
    "    question_embeds = EmbedAndConcat.q_concat(toks[0])\n",
    "    doc_embeds = EmbedAndConcat.doc_concat(toks[1])"
   ]
  },
  {
   "cell_type": "raw",
   "id": "e7c28842-b9db-4d71-bc93-d8234aa9dc4a",
   "metadata": {},
   "source": [
    "doc_rnn_model = QA_RNN.DocumentModel(10, 10, 2)\n",
    "question_rnn_model = QA_RNN.QuestionModel(10, 10, 10)"
   ]
  }
 ],
 "metadata": {
  "kernelspec": {
   "display_name": "Python 3 (ipykernel)",
   "language": "python",
   "name": "python3"
  },
  "language_info": {
   "codemirror_mode": {
    "name": "ipython",
    "version": 3
   },
   "file_extension": ".py",
   "mimetype": "text/x-python",
   "name": "python",
   "nbconvert_exporter": "python",
   "pygments_lexer": "ipython3",
   "version": "3.10.9"
  }
 },
 "nbformat": 4,
 "nbformat_minor": 5
}
