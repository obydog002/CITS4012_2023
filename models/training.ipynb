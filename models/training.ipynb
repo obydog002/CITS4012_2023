{
 "cells": [
  {
   "cell_type": "code",
   "execution_count": 102,
   "id": "af1d613a-d52e-4d9d-bb2c-e03e5078358e",
   "metadata": {},
   "outputs": [],
   "source": [
    "# when not using colab\n",
    "import sys\n",
    "sys.path.append('../src/QA')\n",
    "import reload_recursive\n",
    "%reload data_prep\n",
    "from model import QA_RNN\n",
    "%reload word_embed\n",
    "from word_embed import WordEmbed\n",
    "%reload embed_doc\n",
    "from embed_doc import EmbedAndConcat"
   ]
  },
  {
   "cell_type": "code",
   "execution_count": 103,
   "id": "e7e790ea-3aab-4b8a-902b-3af0d11f57ac",
   "metadata": {},
   "outputs": [],
   "source": [
    "from data_prep import DataPrep\n",
    "%reload model"
   ]
  },
  {
   "cell_type": "markdown",
   "id": "c5c3d4da-a929-47d1-a306-8459634976d1",
   "metadata": {},
   "source": [
    "All these functions should be moved to their own module, im just doing it like this as a rough draft."
   ]
  },
  {
   "cell_type": "code",
   "execution_count": 41,
   "id": "32108bfc-758a-477b-ba7a-7b1633980377",
   "metadata": {},
   "outputs": [],
   "source": [
    "def train(input_question_tensor, input_document_tensor, target_tensor, question_model, document_model, question_optimizer, document_optimizer, criterion):\n",
    "    input_question_length = input_question_tensor.size(0)\n",
    "    input_document_length = input_document_tensor.size(0)\n",
    "    target_length = target_tensor.size(0)\n",
    "\n",
    "    loss = 0    \n",
    "    question_optimizer.zero_grad()\n",
    "    document_optimizer.zero_grad()\n",
    "\n",
    "    # get output from question model\n",
    "    question_output = question_model(input_question_tensor)\n",
    "    \n",
    "    # predictions from the document model with output from question for attention\n",
    "    document_output = document_model(input_document_tensor, question_output)\n",
    "\n",
    "    loss.backward()\n",
    "\n",
    "    encoder_optimizer.step()\n",
    "    decoder_optimizer.step()\n",
    "\n",
    "    return loss.item() / target_length"
   ]
  },
  {
   "cell_type": "code",
   "execution_count": 42,
   "id": "3e684cb0-505a-4a1e-a353-bc4c06fa09f7",
   "metadata": {},
   "outputs": [],
   "source": [
    "import time\n",
    "import math\n",
    "\n",
    "# Helper functions for training\n",
    "def asMinutes(s):\n",
    "    m = math.floor(s / 60)\n",
    "    s -= m * 60\n",
    "    return '%dm %ds' % (m, s)\n",
    "\n",
    "def timeSince(since, percent):\n",
    "    now = time.time()\n",
    "    s = now - since\n",
    "    es = s / (percent)\n",
    "    rs = es - s\n",
    "    return '%s (- %s)' % (asMinutes(s), asMinutes(rs))"
   ]
  },
  {
   "cell_type": "code",
   "execution_count": 43,
   "id": "580cf374-e040-4703-9b47-945256242b23",
   "metadata": {},
   "outputs": [],
   "source": [
    "import random\n",
    "def trainIters(encoder, decoder, n_iters, print_every=1000, plot_every=100, learning_rate=0.01):\n",
    "    start = time.time()\n",
    "    plot_losses = []\n",
    "    print_loss_total = 0  # Reset every print_every\n",
    "    plot_loss_total = 0  # Reset every plot_every\n",
    "\n",
    "    encoder_optimizer = optim.SGD(encoder.parameters(), lr=learning_rate)\n",
    "    decoder_optimizer = optim.SGD(decoder.parameters(), lr=learning_rate)\n",
    "    \n",
    "    criterion = nn.NLLLoss()\n",
    "\n",
    "    for iter in range(1, n_iters + 1):\n",
    "        random_choice_ix = random.choice(range(n_data)) # Get a random index within the scope of input data\n",
    "        input_index_r = [[ind] for ind in input_index[random_choice_ix]] \n",
    "        target_index_r = [[ind] for ind in target_index[random_choice_ix]]\n",
    "        \n",
    "        input_tensor = torch.LongTensor(input_index_r).to(device) \n",
    "        target_tensor = torch.LongTensor(target_index_r).to(device) \n",
    "\n",
    "        loss = train(input_tensor, target_tensor, encoder, decoder, encoder_optimizer, decoder_optimizer, criterion)\n",
    "        print_loss_total += loss\n",
    "        plot_loss_total += loss\n",
    "\n",
    "        if iter % print_every == 0:\n",
    "            print_loss_avg = print_loss_total / print_every\n",
    "            print_loss_total = 0\n",
    "            print('%s (%d %d%%) %.4f' % (timeSince(start, iter / n_iters),\n",
    "                                         iter, iter / n_iters * 100, print_loss_avg))\n",
    "\n",
    "        if iter % plot_every == 0:\n",
    "            plot_loss_avg = plot_loss_total / plot_every\n",
    "            plot_losses.append(plot_loss_avg)\n",
    "            plot_loss_total = 0\n"
   ]
  },
  {
   "cell_type": "code",
   "execution_count": 44,
   "id": "066e7459-7884-4f79-8a1a-0443fa07d48f",
   "metadata": {},
   "outputs": [
    {
     "data": {
      "text/plain": [
       "device(type='cpu')"
      ]
     },
     "execution_count": 44,
     "metadata": {},
     "output_type": "execute_result"
    }
   ],
   "source": [
    "import torch\n",
    "import torch\n",
    "import torch.nn as nn\n",
    "from torch import optim\n",
    "import torch.nn.functional as F\n",
    "\n",
    "device = torch.device(\"cuda\" if torch.cuda.is_available() else \"cpu\")\n",
    "device"
   ]
  },
  {
   "cell_type": "code",
   "execution_count": 104,
   "id": "8e2f1e62-029c-456a-943a-e8b5504843ea",
   "metadata": {},
   "outputs": [],
   "source": [
    "df = DataPrep.parse_tsv('../WikiQA-train.tsv')\n",
    "question_doc_raw_train = DataPrep.convert_pd_to_json(df)"
   ]
  },
  {
   "cell_type": "code",
   "execution_count": 142,
   "id": "4f0a5c92-21ef-4015-8b91-bf1f8d6443f3",
   "metadata": {
    "tags": []
   },
   "outputs": [],
   "source": [
    "# TODO - add to package somwhere\n",
    "def get_unrolled_embeddings(df):\n",
    "    q_inputs = []\n",
    "    doc_inputs = []\n",
    "    doc_targets = []\n",
    "    for key in df.keys():\n",
    "        toks = DataPrep.tokenize_question_and_doc(df[key])\n",
    "        q_embeds = EmbedAndConcat.q_concat(toks[0])\n",
    "        doc_embeds = EmbedAndConcat.doc_concat(toks[1])\n",
    "        # toks[2] are the targets\n",
    "        # unroll the document and tokens.\n",
    "        # that is, create from [[sent1_word1_embed, sent1_word2_embed,...], [sent2_word1_embed...]]\n",
    "        # simply [word1_embed, word2_embed...]\n",
    "        unrolled_doc_embeds = [word_embed for sentence in doc_embeds for word_embed in sentence]\n",
    "        unrolled_doc_targets = [target for sentence in toks[2] for target in sentence]\n",
    "        q_inputs.append(q_embeds)\n",
    "        doc_inputs.append(unrolled_doc_embeds)\n",
    "        doc_targets.append(unrolled_doc_targets)\n",
    "    return q_inputs, doc_inputs, doc_targets\n",
    "\n",
    "train_question_inputs, train_doc_inputs, train_doc_targets = get_unrolled_embeddings(question_doc_raw_train)"
   ]
  },
  {
   "cell_type": "code",
   "execution_count": 165,
   "id": "032220c8-5653-413b-928f-cfa54ac06da7",
   "metadata": {},
   "outputs": [],
   "source": [
    "def get_max(l):\n",
    "    return max(len(item) for item in l)\n",
    "def get_min(l):\n",
    "    return min(len(item) for item in l)"
   ]
  },
  {
   "cell_type": "code",
   "execution_count": 155,
   "id": "1514503d-bf18-4feb-9676-4ba321894189",
   "metadata": {},
   "outputs": [
    {
     "name": "stdout",
     "output_type": "stream",
     "text": [
      "27\n",
      "1064\n",
      "1064\n"
     ]
    }
   ],
   "source": [
    "print(get_max(train_question_inputs))\n",
    "print(get_max(train_doc_inputs))\n",
    "print(get_max(train_doc_targets))"
   ]
  },
  {
   "cell_type": "markdown",
   "id": "9cab38fd-3014-4045-b38e-28f6f396f5b4",
   "metadata": {},
   "source": [
    "Now do the same for the test set"
   ]
  },
  {
   "cell_type": "code",
   "execution_count": 160,
   "id": "b522e2d5-2a4e-4ed9-a089-aebee77ae16e",
   "metadata": {},
   "outputs": [],
   "source": [
    "df_test = DataPrep.parse_tsv('../WikiQA-test.tsv')\n",
    "question_doc_raw_test = DataPrep.convert_pd_to_json(df_test)\n",
    "test_q_inputs, test_doc_inputs, test_doc_targets = get_unrolled_embeddings(question_doc_raw_test)"
   ]
  },
  {
   "cell_type": "code",
   "execution_count": 161,
   "id": "d82e6755-1ba0-4da0-8a85-a08094dacb22",
   "metadata": {},
   "outputs": [
    {
     "name": "stdout",
     "output_type": "stream",
     "text": [
      "21\n",
      "1889\n",
      "1889\n"
     ]
    }
   ],
   "source": [
    "print(get_max(test_q_inputs))\n",
    "print(get_max(test_doc_inputs))\n",
    "print(get_max(test_doc_targets))"
   ]
  },
  {
   "cell_type": "markdown",
   "id": "01de8740-eab4-4c7b-97b7-61953554a06b",
   "metadata": {},
   "source": [
    "apply padding"
   ]
  },
  {
   "cell_type": "code",
   "execution_count": null,
   "id": "d287311c-c942-4fe7-986e-9f4922b36336",
   "metadata": {},
   "outputs": [],
   "source": [
    "q_len = max(get_max(train_q_inputs), get_max(test_q_inputs))\n",
    "doc_len = max(get_max(train_doc_inputs), get_max(test_doc_inputs))\n",
    "def apply_padding(q_len, doc_len, ) # just cut for now maxy boy. Or add np.zeros to fill?"
   ]
  },
  {
   "cell_type": "raw",
   "id": "e7c28842-b9db-4d71-bc93-d8234aa9dc4a",
   "metadata": {},
   "source": [
    "doc_rnn_model = QA_RNN.DocumentModel(10, 10, 2)\n",
    "question_rnn_model = QA_RNN.QuestionModel(10, 10, 10)"
   ]
  }
 ],
 "metadata": {
  "kernelspec": {
   "display_name": "Python 3 (ipykernel)",
   "language": "python",
   "name": "python3"
  },
  "language_info": {
   "codemirror_mode": {
    "name": "ipython",
    "version": 3
   },
   "file_extension": ".py",
   "mimetype": "text/x-python",
   "name": "python",
   "nbconvert_exporter": "python",
   "pygments_lexer": "ipython3",
   "version": "3.10.9"
  }
 },
 "nbformat": 4,
 "nbformat_minor": 5
}
